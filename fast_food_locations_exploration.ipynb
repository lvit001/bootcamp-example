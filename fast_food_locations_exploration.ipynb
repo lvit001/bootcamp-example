{
 "cells": [
  {
   "cell_type": "code",
   "execution_count": 36,
   "metadata": {},
   "outputs": [
    {
     "data": {
      "application/javascript": "(function(root) {\n  function now() {\n    return new Date();\n  }\n\n  var force = true;\n  var py_version = '3.2.1'.replace('rc', '-rc.').replace('.dev', '-dev.');\n  var is_dev = py_version.indexOf(\"+\") !== -1 || py_version.indexOf(\"-\") !== -1;\n  var reloading = false;\n  var Bokeh = root.Bokeh;\n  var bokeh_loaded = Bokeh != null && (Bokeh.version === py_version || (Bokeh.versions !== undefined && Bokeh.versions.has(py_version)));\n\n  if (typeof (root._bokeh_timeout) === \"undefined\" || force) {\n    root._bokeh_timeout = Date.now() + 5000;\n    root._bokeh_failed_load = false;\n  }\n\n  function run_callbacks() {\n    try {\n      root._bokeh_onload_callbacks.forEach(function(callback) {\n        if (callback != null)\n          callback();\n      });\n    } finally {\n      delete root._bokeh_onload_callbacks;\n    }\n    console.debug(\"Bokeh: all callbacks have finished\");\n  }\n\n  function load_libs(css_urls, js_urls, js_modules, js_exports, callback) {\n    if (css_urls == null) css_urls = [];\n    if (js_urls == null) js_urls = [];\n    if (js_modules == null) js_modules = [];\n    if (js_exports == null) js_exports = {};\n\n    root._bokeh_onload_callbacks.push(callback);\n\n    if (root._bokeh_is_loading > 0) {\n      console.debug(\"Bokeh: BokehJS is being loaded, scheduling callback at\", now());\n      return null;\n    }\n    if (js_urls.length === 0 && js_modules.length === 0 && Object.keys(js_exports).length === 0) {\n      run_callbacks();\n      return null;\n    }\n    if (!reloading) {\n      console.debug(\"Bokeh: BokehJS not loaded, scheduling load and callback at\", now());\n    }\n\n    function on_load() {\n      root._bokeh_is_loading--;\n      if (root._bokeh_is_loading === 0) {\n        console.debug(\"Bokeh: all BokehJS libraries/stylesheets loaded\");\n        run_callbacks()\n      }\n    }\n    window._bokeh_on_load = on_load\n\n    function on_error() {\n      console.error(\"failed to load \" + url);\n    }\n\n    var skip = [];\n    if (window.requirejs) {\n      window.requirejs.config({'packages': {}, 'paths': {'jspanel': 'https://cdn.jsdelivr.net/npm/jspanel4@4.12.0/dist/jspanel', 'jspanel-modal': 'https://cdn.jsdelivr.net/npm/jspanel4@4.12.0/dist/extensions/modal/jspanel.modal', 'jspanel-tooltip': 'https://cdn.jsdelivr.net/npm/jspanel4@4.12.0/dist/extensions/tooltip/jspanel.tooltip', 'jspanel-hint': 'https://cdn.jsdelivr.net/npm/jspanel4@4.12.0/dist/extensions/hint/jspanel.hint', 'jspanel-layout': 'https://cdn.jsdelivr.net/npm/jspanel4@4.12.0/dist/extensions/layout/jspanel.layout', 'jspanel-contextmenu': 'https://cdn.jsdelivr.net/npm/jspanel4@4.12.0/dist/extensions/contextmenu/jspanel.contextmenu', 'jspanel-dock': 'https://cdn.jsdelivr.net/npm/jspanel4@4.12.0/dist/extensions/dock/jspanel.dock', 'gridstack': 'https://cdn.jsdelivr.net/npm/gridstack@7.2.3/dist/gridstack-all', 'notyf': 'https://cdn.jsdelivr.net/npm/notyf@3/notyf.min'}, 'shim': {'jspanel': {'exports': 'jsPanel'}, 'gridstack': {'exports': 'GridStack'}}});\n      require([\"jspanel\"], function(jsPanel) {\n\twindow.jsPanel = jsPanel\n\ton_load()\n      })\n      require([\"jspanel-modal\"], function() {\n\ton_load()\n      })\n      require([\"jspanel-tooltip\"], function() {\n\ton_load()\n      })\n      require([\"jspanel-hint\"], function() {\n\ton_load()\n      })\n      require([\"jspanel-layout\"], function() {\n\ton_load()\n      })\n      require([\"jspanel-contextmenu\"], function() {\n\ton_load()\n      })\n      require([\"jspanel-dock\"], function() {\n\ton_load()\n      })\n      require([\"gridstack\"], function(GridStack) {\n\twindow.GridStack = GridStack\n\ton_load()\n      })\n      require([\"notyf\"], function() {\n\ton_load()\n      })\n      root._bokeh_is_loading = css_urls.length + 9;\n    } else {\n      root._bokeh_is_loading = css_urls.length + js_urls.length + js_modules.length + Object.keys(js_exports).length;\n    }\n\n    var existing_stylesheets = []\n    var links = document.getElementsByTagName('link')\n    for (var i = 0; i < links.length; i++) {\n      var link = links[i]\n      if (link.href != null) {\n\texisting_stylesheets.push(link.href)\n      }\n    }\n    for (var i = 0; i < css_urls.length; i++) {\n      var url = css_urls[i];\n      if (existing_stylesheets.indexOf(url) !== -1) {\n\ton_load()\n\tcontinue;\n      }\n      const element = document.createElement(\"link\");\n      element.onload = on_load;\n      element.onerror = on_error;\n      element.rel = \"stylesheet\";\n      element.type = \"text/css\";\n      element.href = url;\n      console.debug(\"Bokeh: injecting link tag for BokehJS stylesheet: \", url);\n      document.body.appendChild(element);\n    }    if (((window['jsPanel'] !== undefined) && (!(window['jsPanel'] instanceof HTMLElement))) || window.requirejs) {\n      var urls = ['https://cdn.holoviz.org/panel/1.2.3/dist/bundled/floatpanel/jspanel4@4.12.0/dist/jspanel.js', 'https://cdn.holoviz.org/panel/1.2.3/dist/bundled/floatpanel/jspanel4@4.12.0/dist/extensions/modal/jspanel.modal.js', 'https://cdn.holoviz.org/panel/1.2.3/dist/bundled/floatpanel/jspanel4@4.12.0/dist/extensions/tooltip/jspanel.tooltip.js', 'https://cdn.holoviz.org/panel/1.2.3/dist/bundled/floatpanel/jspanel4@4.12.0/dist/extensions/hint/jspanel.hint.js', 'https://cdn.holoviz.org/panel/1.2.3/dist/bundled/floatpanel/jspanel4@4.12.0/dist/extensions/layout/jspanel.layout.js', 'https://cdn.holoviz.org/panel/1.2.3/dist/bundled/floatpanel/jspanel4@4.12.0/dist/extensions/contextmenu/jspanel.contextmenu.js', 'https://cdn.holoviz.org/panel/1.2.3/dist/bundled/floatpanel/jspanel4@4.12.0/dist/extensions/dock/jspanel.dock.js'];\n      for (var i = 0; i < urls.length; i++) {\n        skip.push(urls[i])\n      }\n    }    if (((window['GridStack'] !== undefined) && (!(window['GridStack'] instanceof HTMLElement))) || window.requirejs) {\n      var urls = ['https://cdn.holoviz.org/panel/1.2.3/dist/bundled/gridstack/gridstack@7.2.3/dist/gridstack-all.js'];\n      for (var i = 0; i < urls.length; i++) {\n        skip.push(urls[i])\n      }\n    }    if (((window['Notyf'] !== undefined) && (!(window['Notyf'] instanceof HTMLElement))) || window.requirejs) {\n      var urls = ['https://cdn.holoviz.org/panel/1.2.3/dist/bundled/notificationarea/notyf@3/notyf.min.js'];\n      for (var i = 0; i < urls.length; i++) {\n        skip.push(urls[i])\n      }\n    }    var existing_scripts = []\n    var scripts = document.getElementsByTagName('script')\n    for (var i = 0; i < scripts.length; i++) {\n      var script = scripts[i]\n      if (script.src != null) {\n\texisting_scripts.push(script.src)\n      }\n    }\n    for (var i = 0; i < js_urls.length; i++) {\n      var url = js_urls[i];\n      if (skip.indexOf(url) !== -1 || existing_scripts.indexOf(url) !== -1) {\n\tif (!window.requirejs) {\n\t  on_load();\n\t}\n\tcontinue;\n      }\n      var element = document.createElement('script');\n      element.onload = on_load;\n      element.onerror = on_error;\n      element.async = false;\n      element.src = url;\n      console.debug(\"Bokeh: injecting script tag for BokehJS library: \", url);\n      document.head.appendChild(element);\n    }\n    for (var i = 0; i < js_modules.length; i++) {\n      var url = js_modules[i];\n      if (skip.indexOf(url) !== -1 || existing_scripts.indexOf(url) !== -1) {\n\tif (!window.requirejs) {\n\t  on_load();\n\t}\n\tcontinue;\n      }\n      var element = document.createElement('script');\n      element.onload = on_load;\n      element.onerror = on_error;\n      element.async = false;\n      element.src = url;\n      element.type = \"module\";\n      console.debug(\"Bokeh: injecting script tag for BokehJS library: \", url);\n      document.head.appendChild(element);\n    }\n    for (const name in js_exports) {\n      var url = js_exports[name];\n      if (skip.indexOf(url) >= 0 || root[name] != null) {\n\tif (!window.requirejs) {\n\t  on_load();\n\t}\n\tcontinue;\n      }\n      var element = document.createElement('script');\n      element.onerror = on_error;\n      element.async = false;\n      element.type = \"module\";\n      console.debug(\"Bokeh: injecting script tag for BokehJS library: \", url);\n      element.textContent = `\n      import ${name} from \"${url}\"\n      window.${name} = ${name}\n      window._bokeh_on_load()\n      `\n      document.head.appendChild(element);\n    }\n    if (!js_urls.length && !js_modules.length) {\n      on_load()\n    }\n  };\n\n  function inject_raw_css(css) {\n    const element = document.createElement(\"style\");\n    element.appendChild(document.createTextNode(css));\n    document.body.appendChild(element);\n  }\n\n  var js_urls = [\"https://cdn.bokeh.org/bokeh/release/bokeh-3.2.1.min.js\", \"https://cdn.bokeh.org/bokeh/release/bokeh-gl-3.2.1.min.js\", \"https://cdn.bokeh.org/bokeh/release/bokeh-widgets-3.2.1.min.js\", \"https://cdn.bokeh.org/bokeh/release/bokeh-tables-3.2.1.min.js\", \"https://cdn.holoviz.org/panel/1.2.3/dist/panel.min.js\"];\n  var js_modules = [];\n  var js_exports = {};\n  var css_urls = [];\n  var inline_js = [    function(Bokeh) {\n      Bokeh.set_log_level(\"info\");\n    },\nfunction(Bokeh) {} // ensure no trailing comma for IE\n  ];\n\n  function run_inline_js() {\n    if ((root.Bokeh !== undefined) || (force === true)) {\n      for (var i = 0; i < inline_js.length; i++) {\n        inline_js[i].call(root, root.Bokeh);\n      }\n      // Cache old bokeh versions\n      if (Bokeh != undefined && !reloading) {\n\tvar NewBokeh = root.Bokeh;\n\tif (Bokeh.versions === undefined) {\n\t  Bokeh.versions = new Map();\n\t}\n\tif (NewBokeh.version !== Bokeh.version) {\n\t  Bokeh.versions.set(NewBokeh.version, NewBokeh)\n\t}\n\troot.Bokeh = Bokeh;\n      }} else if (Date.now() < root._bokeh_timeout) {\n      setTimeout(run_inline_js, 100);\n    } else if (!root._bokeh_failed_load) {\n      console.log(\"Bokeh: BokehJS failed to load within specified timeout.\");\n      root._bokeh_failed_load = true;\n    }\n    root._bokeh_is_initializing = false\n  }\n\n  function load_or_wait() {\n    // Implement a backoff loop that tries to ensure we do not load multiple\n    // versions of Bokeh and its dependencies at the same time.\n    // In recent versions we use the root._bokeh_is_initializing flag\n    // to determine whether there is an ongoing attempt to initialize\n    // bokeh, however for backward compatibility we also try to ensure\n    // that we do not start loading a newer (Panel>=1.0 and Bokeh>3) version\n    // before older versions are fully initialized.\n    if (root._bokeh_is_initializing && Date.now() > root._bokeh_timeout) {\n      root._bokeh_is_initializing = false;\n      root._bokeh_onload_callbacks = undefined;\n      console.log(\"Bokeh: BokehJS was loaded multiple times but one version failed to initialize.\");\n      load_or_wait();\n    } else if (root._bokeh_is_initializing || (typeof root._bokeh_is_initializing === \"undefined\" && root._bokeh_onload_callbacks !== undefined)) {\n      setTimeout(load_or_wait, 100);\n    } else {\n      Bokeh = root.Bokeh;\n      bokeh_loaded = Bokeh != null && (Bokeh.version === py_version || (Bokeh.versions !== undefined && Bokeh.versions.has(py_version)));\n      root._bokeh_is_initializing = true\n      root._bokeh_onload_callbacks = []\n      if (!reloading && (!bokeh_loaded || is_dev)) {\n\troot.Bokeh = undefined;\n      }\n      load_libs(css_urls, js_urls, js_modules, js_exports, function() {\n\tconsole.debug(\"Bokeh: BokehJS plotting callback run at\", now());\n\trun_inline_js();\n      });\n    }\n  }\n  // Give older versions of the autoload script a head-start to ensure\n  // they initialize before we start loading newer version.\n  setTimeout(load_or_wait, 100)\n}(window));",
      "application/vnd.holoviews_load.v0+json": ""
     },
     "metadata": {},
     "output_type": "display_data"
    },
    {
     "data": {
      "application/javascript": "\nif ((window.PyViz === undefined) || (window.PyViz instanceof HTMLElement)) {\n  window.PyViz = {comms: {}, comm_status:{}, kernels:{}, receivers: {}, plot_index: []}\n}\n\n\n    function JupyterCommManager() {\n    }\n\n    JupyterCommManager.prototype.register_target = function(plot_id, comm_id, msg_handler) {\n      if (window.comm_manager || ((window.Jupyter !== undefined) && (Jupyter.notebook.kernel != null))) {\n        var comm_manager = window.comm_manager || Jupyter.notebook.kernel.comm_manager;\n        comm_manager.register_target(comm_id, function(comm) {\n          comm.on_msg(msg_handler);\n        });\n      } else if ((plot_id in window.PyViz.kernels) && (window.PyViz.kernels[plot_id])) {\n        window.PyViz.kernels[plot_id].registerCommTarget(comm_id, function(comm) {\n          comm.onMsg = msg_handler;\n        });\n      } else if (typeof google != 'undefined' && google.colab.kernel != null) {\n        google.colab.kernel.comms.registerTarget(comm_id, (comm) => {\n          var messages = comm.messages[Symbol.asyncIterator]();\n          function processIteratorResult(result) {\n            var message = result.value;\n            console.log(message)\n            var content = {data: message.data, comm_id};\n            var buffers = []\n            for (var buffer of message.buffers || []) {\n              buffers.push(new DataView(buffer))\n            }\n            var metadata = message.metadata || {};\n            var msg = {content, buffers, metadata}\n            msg_handler(msg);\n            return messages.next().then(processIteratorResult);\n          }\n          return messages.next().then(processIteratorResult);\n        })\n      }\n    }\n\n    JupyterCommManager.prototype.get_client_comm = function(plot_id, comm_id, msg_handler) {\n      if (comm_id in window.PyViz.comms) {\n        return window.PyViz.comms[comm_id];\n      } else if (window.comm_manager || ((window.Jupyter !== undefined) && (Jupyter.notebook.kernel != null))) {\n        var comm_manager = window.comm_manager || Jupyter.notebook.kernel.comm_manager;\n        var comm = comm_manager.new_comm(comm_id, {}, {}, {}, comm_id);\n        if (msg_handler) {\n          comm.on_msg(msg_handler);\n        }\n      } else if ((plot_id in window.PyViz.kernels) && (window.PyViz.kernels[plot_id])) {\n        var comm = window.PyViz.kernels[plot_id].connectToComm(comm_id);\n        comm.open();\n        if (msg_handler) {\n          comm.onMsg = msg_handler;\n        }\n      } else if (typeof google != 'undefined' && google.colab.kernel != null) {\n        var comm_promise = google.colab.kernel.comms.open(comm_id)\n        comm_promise.then((comm) => {\n          window.PyViz.comms[comm_id] = comm;\n          if (msg_handler) {\n            var messages = comm.messages[Symbol.asyncIterator]();\n            function processIteratorResult(result) {\n              var message = result.value;\n              var content = {data: message.data};\n              var metadata = message.metadata || {comm_id};\n              var msg = {content, metadata}\n              msg_handler(msg);\n              return messages.next().then(processIteratorResult);\n            }\n            return messages.next().then(processIteratorResult);\n          }\n        }) \n        var sendClosure = (data, metadata, buffers, disposeOnDone) => {\n          return comm_promise.then((comm) => {\n            comm.send(data, metadata, buffers, disposeOnDone);\n          });\n        };\n        var comm = {\n          send: sendClosure\n        };\n      }\n      window.PyViz.comms[comm_id] = comm;\n      return comm;\n    }\n    window.PyViz.comm_manager = new JupyterCommManager();\n    \n\n\nvar JS_MIME_TYPE = 'application/javascript';\nvar HTML_MIME_TYPE = 'text/html';\nvar EXEC_MIME_TYPE = 'application/vnd.holoviews_exec.v0+json';\nvar CLASS_NAME = 'output';\n\n/**\n * Render data to the DOM node\n */\nfunction render(props, node) {\n  var div = document.createElement(\"div\");\n  var script = document.createElement(\"script\");\n  node.appendChild(div);\n  node.appendChild(script);\n}\n\n/**\n * Handle when a new output is added\n */\nfunction handle_add_output(event, handle) {\n  var output_area = handle.output_area;\n  var output = handle.output;\n  if ((output.data == undefined) || (!output.data.hasOwnProperty(EXEC_MIME_TYPE))) {\n    return\n  }\n  var id = output.metadata[EXEC_MIME_TYPE][\"id\"];\n  var toinsert = output_area.element.find(\".\" + CLASS_NAME.split(' ')[0]);\n  if (id !== undefined) {\n    var nchildren = toinsert.length;\n    var html_node = toinsert[nchildren-1].children[0];\n    html_node.innerHTML = output.data[HTML_MIME_TYPE];\n    var scripts = [];\n    var nodelist = html_node.querySelectorAll(\"script\");\n    for (var i in nodelist) {\n      if (nodelist.hasOwnProperty(i)) {\n        scripts.push(nodelist[i])\n      }\n    }\n\n    scripts.forEach( function (oldScript) {\n      var newScript = document.createElement(\"script\");\n      var attrs = [];\n      var nodemap = oldScript.attributes;\n      for (var j in nodemap) {\n        if (nodemap.hasOwnProperty(j)) {\n          attrs.push(nodemap[j])\n        }\n      }\n      attrs.forEach(function(attr) { newScript.setAttribute(attr.name, attr.value) });\n      newScript.appendChild(document.createTextNode(oldScript.innerHTML));\n      oldScript.parentNode.replaceChild(newScript, oldScript);\n    });\n    if (JS_MIME_TYPE in output.data) {\n      toinsert[nchildren-1].children[1].textContent = output.data[JS_MIME_TYPE];\n    }\n    output_area._hv_plot_id = id;\n    if ((window.Bokeh !== undefined) && (id in Bokeh.index)) {\n      window.PyViz.plot_index[id] = Bokeh.index[id];\n    } else {\n      window.PyViz.plot_index[id] = null;\n    }\n  } else if (output.metadata[EXEC_MIME_TYPE][\"server_id\"] !== undefined) {\n    var bk_div = document.createElement(\"div\");\n    bk_div.innerHTML = output.data[HTML_MIME_TYPE];\n    var script_attrs = bk_div.children[0].attributes;\n    for (var i = 0; i < script_attrs.length; i++) {\n      toinsert[toinsert.length - 1].childNodes[1].setAttribute(script_attrs[i].name, script_attrs[i].value);\n    }\n    // store reference to server id on output_area\n    output_area._bokeh_server_id = output.metadata[EXEC_MIME_TYPE][\"server_id\"];\n  }\n}\n\n/**\n * Handle when an output is cleared or removed\n */\nfunction handle_clear_output(event, handle) {\n  var id = handle.cell.output_area._hv_plot_id;\n  var server_id = handle.cell.output_area._bokeh_server_id;\n  if (((id === undefined) || !(id in PyViz.plot_index)) && (server_id !== undefined)) { return; }\n  var comm = window.PyViz.comm_manager.get_client_comm(\"hv-extension-comm\", \"hv-extension-comm\", function () {});\n  if (server_id !== null) {\n    comm.send({event_type: 'server_delete', 'id': server_id});\n    return;\n  } else if (comm !== null) {\n    comm.send({event_type: 'delete', 'id': id});\n  }\n  delete PyViz.plot_index[id];\n  if ((window.Bokeh !== undefined) & (id in window.Bokeh.index)) {\n    var doc = window.Bokeh.index[id].model.document\n    doc.clear();\n    const i = window.Bokeh.documents.indexOf(doc);\n    if (i > -1) {\n      window.Bokeh.documents.splice(i, 1);\n    }\n  }\n}\n\n/**\n * Handle kernel restart event\n */\nfunction handle_kernel_cleanup(event, handle) {\n  delete PyViz.comms[\"hv-extension-comm\"];\n  window.PyViz.plot_index = {}\n}\n\n/**\n * Handle update_display_data messages\n */\nfunction handle_update_output(event, handle) {\n  handle_clear_output(event, {cell: {output_area: handle.output_area}})\n  handle_add_output(event, handle)\n}\n\nfunction register_renderer(events, OutputArea) {\n  function append_mime(data, metadata, element) {\n    // create a DOM node to render to\n    var toinsert = this.create_output_subarea(\n    metadata,\n    CLASS_NAME,\n    EXEC_MIME_TYPE\n    );\n    this.keyboard_manager.register_events(toinsert);\n    // Render to node\n    var props = {data: data, metadata: metadata[EXEC_MIME_TYPE]};\n    render(props, toinsert[0]);\n    element.append(toinsert);\n    return toinsert\n  }\n\n  events.on('output_added.OutputArea', handle_add_output);\n  events.on('output_updated.OutputArea', handle_update_output);\n  events.on('clear_output.CodeCell', handle_clear_output);\n  events.on('delete.Cell', handle_clear_output);\n  events.on('kernel_ready.Kernel', handle_kernel_cleanup);\n\n  OutputArea.prototype.register_mime_type(EXEC_MIME_TYPE, append_mime, {\n    safe: true,\n    index: 0\n  });\n}\n\nif (window.Jupyter !== undefined) {\n  try {\n    var events = require('base/js/events');\n    var OutputArea = require('notebook/js/outputarea').OutputArea;\n    if (OutputArea.prototype.mime_types().indexOf(EXEC_MIME_TYPE) == -1) {\n      register_renderer(events, OutputArea);\n    }\n  } catch(err) {\n  }\n}\n",
      "application/vnd.holoviews_load.v0+json": ""
     },
     "metadata": {},
     "output_type": "display_data"
    },
    {
     "data": {
      "text/html": [
       "<style>*[data-root-id],\n",
       "*[data-root-id] > * {\n",
       "  box-sizing: border-box;\n",
       "  font-family: var(--jp-ui-font-family);\n",
       "  font-size: var(--jp-ui-font-size1);\n",
       "  color: var(--vscode-editor-foreground, var(--jp-ui-font-color1));\n",
       "}\n",
       "\n",
       "/* Override VSCode background color */\n",
       ".cell-output-ipywidget-background:has(\n",
       "    > .cell-output-ipywidget-background > .lm-Widget > *[data-root-id]\n",
       "  ),\n",
       ".cell-output-ipywidget-background:has(> .lm-Widget > *[data-root-id]) {\n",
       "  background-color: transparent !important;\n",
       "}\n",
       "</style>"
      ]
     },
     "metadata": {},
     "output_type": "display_data"
    }
   ],
   "source": [
    "# import dependencies\n",
    "import pandas as pd\n",
    "import matplotlib as plot\n",
    "import hvplot.pandas"
   ]
  },
  {
   "cell_type": "code",
   "execution_count": 37,
   "metadata": {},
   "outputs": [],
   "source": [
    "# File to Load\n",
    "path1 = (\"../Data/Fast_Food_Restaurants_1.csv\")\n",
    "path2 = (\"../Data/Fast_Food_Restaurants_2.csv\")\n",
    "path3 = (\"../Data/Fast_Food_Restaurants_3.csv\")\n",
    "\n",
    "# Read in the file and store into Pandas DataFrames\n",
    "df1 = pd.read_csv(path1)\n",
    "df2 = pd.read_csv(path2)\n",
    "df3 = pd.read_csv(path3)"
   ]
  },
  {
   "cell_type": "code",
   "execution_count": 38,
   "metadata": {},
   "outputs": [
    {
     "data": {
      "text/html": [
       "<div>\n",
       "<style scoped>\n",
       "    .dataframe tbody tr th:only-of-type {\n",
       "        vertical-align: middle;\n",
       "    }\n",
       "\n",
       "    .dataframe tbody tr th {\n",
       "        vertical-align: top;\n",
       "    }\n",
       "\n",
       "    .dataframe thead th {\n",
       "        text-align: right;\n",
       "    }\n",
       "</style>\n",
       "<table border=\"1\" class=\"dataframe\">\n",
       "  <thead>\n",
       "    <tr style=\"text-align: right;\">\n",
       "      <th></th>\n",
       "      <th>X</th>\n",
       "      <th>Y</th>\n",
       "      <th>OBJECTID</th>\n",
       "      <th>ID</th>\n",
       "      <th>Letter</th>\n",
       "      <th>Address</th>\n",
       "      <th>City</th>\n",
       "      <th>State</th>\n",
       "      <th>Zip</th>\n",
       "      <th>Phone</th>\n",
       "      <th>Lat</th>\n",
       "      <th>Long_</th>\n",
       "      <th>Restaurant</th>\n",
       "    </tr>\n",
       "  </thead>\n",
       "  <tbody>\n",
       "    <tr>\n",
       "      <th>0</th>\n",
       "      <td>-80.2400</td>\n",
       "      <td>25.8092</td>\n",
       "      <td>1</td>\n",
       "      <td>1</td>\n",
       "      <td>b</td>\n",
       "      <td>3601 N.W. 27th Avenue</td>\n",
       "      <td>Miami</td>\n",
       "      <td>FL</td>\n",
       "      <td>33142</td>\n",
       "      <td>(305) 638-3838</td>\n",
       "      <td>25.8092</td>\n",
       "      <td>-80.2400</td>\n",
       "      <td>Burger King</td>\n",
       "    </tr>\n",
       "    <tr>\n",
       "      <th>1</th>\n",
       "      <td>-80.2094</td>\n",
       "      <td>25.8587</td>\n",
       "      <td>2</td>\n",
       "      <td>2</td>\n",
       "      <td>b</td>\n",
       "      <td>8995 N. W. 7th Avenue</td>\n",
       "      <td>Miami</td>\n",
       "      <td>FL</td>\n",
       "      <td>33150</td>\n",
       "      <td>(305) 754-8453</td>\n",
       "      <td>25.8587</td>\n",
       "      <td>-80.2094</td>\n",
       "      <td>Burger King</td>\n",
       "    </tr>\n",
       "    <tr>\n",
       "      <th>2</th>\n",
       "      <td>-80.4610</td>\n",
       "      <td>25.4849</td>\n",
       "      <td>3</td>\n",
       "      <td>3</td>\n",
       "      <td>b</td>\n",
       "      <td>30390 South Dixie Highway</td>\n",
       "      <td>Homestead</td>\n",
       "      <td>FL</td>\n",
       "      <td>33030</td>\n",
       "      <td>(305) 247-7181</td>\n",
       "      <td>25.4849</td>\n",
       "      <td>-80.4610</td>\n",
       "      <td>Burger King</td>\n",
       "    </tr>\n",
       "    <tr>\n",
       "      <th>3</th>\n",
       "      <td>-80.2415</td>\n",
       "      <td>25.8471</td>\n",
       "      <td>4</td>\n",
       "      <td>4</td>\n",
       "      <td>b</td>\n",
       "      <td>7975 N. W. 27th Avenue</td>\n",
       "      <td>Miami</td>\n",
       "      <td>FL</td>\n",
       "      <td>33147</td>\n",
       "      <td>(305) 836-8152</td>\n",
       "      <td>25.8471</td>\n",
       "      <td>-80.2415</td>\n",
       "      <td>Burger King</td>\n",
       "    </tr>\n",
       "    <tr>\n",
       "      <th>4</th>\n",
       "      <td>-80.3125</td>\n",
       "      <td>25.6849</td>\n",
       "      <td>5</td>\n",
       "      <td>5</td>\n",
       "      <td>b</td>\n",
       "      <td>9201 South Dixie Highway</td>\n",
       "      <td>Miami</td>\n",
       "      <td>FL</td>\n",
       "      <td>33156</td>\n",
       "      <td>(305) 666-1130</td>\n",
       "      <td>25.6849</td>\n",
       "      <td>-80.3125</td>\n",
       "      <td>Burger King</td>\n",
       "    </tr>\n",
       "  </tbody>\n",
       "</table>\n",
       "</div>"
      ],
      "text/plain": [
       "         X        Y  OBJECTID  ID Letter                    Address  \\\n",
       "0 -80.2400  25.8092         1   1      b      3601 N.W. 27th Avenue   \n",
       "1 -80.2094  25.8587         2   2      b      8995 N. W. 7th Avenue   \n",
       "2 -80.4610  25.4849         3   3      b  30390 South Dixie Highway   \n",
       "3 -80.2415  25.8471         4   4      b     7975 N. W. 27th Avenue   \n",
       "4 -80.3125  25.6849         5   5      b   9201 South Dixie Highway   \n",
       "\n",
       "        City State    Zip           Phone      Lat    Long_   Restaurant  \n",
       "0      Miami    FL  33142  (305) 638-3838  25.8092 -80.2400  Burger King  \n",
       "1      Miami    FL  33150  (305) 754-8453  25.8587 -80.2094  Burger King  \n",
       "2  Homestead    FL  33030  (305) 247-7181  25.4849 -80.4610  Burger King  \n",
       "3      Miami    FL  33147  (305) 836-8152  25.8471 -80.2415  Burger King  \n",
       "4      Miami    FL  33156  (305) 666-1130  25.6849 -80.3125  Burger King  "
      ]
     },
     "execution_count": 38,
     "metadata": {},
     "output_type": "execute_result"
    }
   ],
   "source": [
    "# display df1\n",
    "df1.head()"
   ]
  },
  {
   "cell_type": "code",
   "execution_count": 39,
   "metadata": {},
   "outputs": [
    {
     "data": {
      "text/html": [
       "<div>\n",
       "<style scoped>\n",
       "    .dataframe tbody tr th:only-of-type {\n",
       "        vertical-align: middle;\n",
       "    }\n",
       "\n",
       "    .dataframe tbody tr th {\n",
       "        vertical-align: top;\n",
       "    }\n",
       "\n",
       "    .dataframe thead th {\n",
       "        text-align: right;\n",
       "    }\n",
       "</style>\n",
       "<table border=\"1\" class=\"dataframe\">\n",
       "  <thead>\n",
       "    <tr style=\"text-align: right;\">\n",
       "      <th></th>\n",
       "      <th>X</th>\n",
       "      <th>Y</th>\n",
       "      <th>OBJECTID</th>\n",
       "      <th>ID</th>\n",
       "      <th>Letter</th>\n",
       "      <th>Address</th>\n",
       "      <th>City</th>\n",
       "      <th>State</th>\n",
       "      <th>Zip</th>\n",
       "      <th>Phone</th>\n",
       "      <th>Lat</th>\n",
       "      <th>Long_</th>\n",
       "      <th>Restaurant</th>\n",
       "    </tr>\n",
       "  </thead>\n",
       "  <tbody>\n",
       "    <tr>\n",
       "      <th>0</th>\n",
       "      <td>-80.2400</td>\n",
       "      <td>25.8092</td>\n",
       "      <td>1</td>\n",
       "      <td>1</td>\n",
       "      <td>b</td>\n",
       "      <td>3601 N.W. 27th Avenue</td>\n",
       "      <td>Miami</td>\n",
       "      <td>FL</td>\n",
       "      <td>33142</td>\n",
       "      <td>(305) 638-3838</td>\n",
       "      <td>25.8092</td>\n",
       "      <td>-80.2400</td>\n",
       "      <td>Burger King</td>\n",
       "    </tr>\n",
       "    <tr>\n",
       "      <th>1</th>\n",
       "      <td>-80.2094</td>\n",
       "      <td>25.8587</td>\n",
       "      <td>2</td>\n",
       "      <td>2</td>\n",
       "      <td>b</td>\n",
       "      <td>8995 N. W. 7th Avenue</td>\n",
       "      <td>Miami</td>\n",
       "      <td>FL</td>\n",
       "      <td>33150</td>\n",
       "      <td>(305) 754-8453</td>\n",
       "      <td>25.8587</td>\n",
       "      <td>-80.2094</td>\n",
       "      <td>Burger King</td>\n",
       "    </tr>\n",
       "    <tr>\n",
       "      <th>2</th>\n",
       "      <td>-80.4610</td>\n",
       "      <td>25.4849</td>\n",
       "      <td>3</td>\n",
       "      <td>3</td>\n",
       "      <td>b</td>\n",
       "      <td>30390 South Dixie Highway</td>\n",
       "      <td>Homestead</td>\n",
       "      <td>FL</td>\n",
       "      <td>33030</td>\n",
       "      <td>(305) 247-7181</td>\n",
       "      <td>25.4849</td>\n",
       "      <td>-80.4610</td>\n",
       "      <td>Burger King</td>\n",
       "    </tr>\n",
       "    <tr>\n",
       "      <th>3</th>\n",
       "      <td>-80.2415</td>\n",
       "      <td>25.8471</td>\n",
       "      <td>4</td>\n",
       "      <td>4</td>\n",
       "      <td>b</td>\n",
       "      <td>7975 N. W. 27th Avenue</td>\n",
       "      <td>Miami</td>\n",
       "      <td>FL</td>\n",
       "      <td>33147</td>\n",
       "      <td>(305) 836-8152</td>\n",
       "      <td>25.8471</td>\n",
       "      <td>-80.2415</td>\n",
       "      <td>Burger King</td>\n",
       "    </tr>\n",
       "    <tr>\n",
       "      <th>4</th>\n",
       "      <td>-80.3125</td>\n",
       "      <td>25.6849</td>\n",
       "      <td>5</td>\n",
       "      <td>5</td>\n",
       "      <td>b</td>\n",
       "      <td>9201 South Dixie Highway</td>\n",
       "      <td>Miami</td>\n",
       "      <td>FL</td>\n",
       "      <td>33156</td>\n",
       "      <td>(305) 666-1130</td>\n",
       "      <td>25.6849</td>\n",
       "      <td>-80.3125</td>\n",
       "      <td>Burger King</td>\n",
       "    </tr>\n",
       "  </tbody>\n",
       "</table>\n",
       "</div>"
      ],
      "text/plain": [
       "         X        Y  OBJECTID  ID Letter                    Address  \\\n",
       "0 -80.2400  25.8092         1   1      b      3601 N.W. 27th Avenue   \n",
       "1 -80.2094  25.8587         2   2      b      8995 N. W. 7th Avenue   \n",
       "2 -80.4610  25.4849         3   3      b  30390 South Dixie Highway   \n",
       "3 -80.2415  25.8471         4   4      b     7975 N. W. 27th Avenue   \n",
       "4 -80.3125  25.6849         5   5      b   9201 South Dixie Highway   \n",
       "\n",
       "        City State    Zip           Phone      Lat    Long_   Restaurant  \n",
       "0      Miami    FL  33142  (305) 638-3838  25.8092 -80.2400  Burger King  \n",
       "1      Miami    FL  33150  (305) 754-8453  25.8587 -80.2094  Burger King  \n",
       "2  Homestead    FL  33030  (305) 247-7181  25.4849 -80.4610  Burger King  \n",
       "3      Miami    FL  33147  (305) 836-8152  25.8471 -80.2415  Burger King  \n",
       "4      Miami    FL  33156  (305) 666-1130  25.6849 -80.3125  Burger King  "
      ]
     },
     "execution_count": 39,
     "metadata": {},
     "output_type": "execute_result"
    }
   ],
   "source": [
    "# display df2\n",
    "df2.head()"
   ]
  },
  {
   "cell_type": "code",
   "execution_count": 40,
   "metadata": {},
   "outputs": [
    {
     "data": {
      "text/html": [
       "<div>\n",
       "<style scoped>\n",
       "    .dataframe tbody tr th:only-of-type {\n",
       "        vertical-align: middle;\n",
       "    }\n",
       "\n",
       "    .dataframe tbody tr th {\n",
       "        vertical-align: top;\n",
       "    }\n",
       "\n",
       "    .dataframe thead th {\n",
       "        text-align: right;\n",
       "    }\n",
       "</style>\n",
       "<table border=\"1\" class=\"dataframe\">\n",
       "  <thead>\n",
       "    <tr style=\"text-align: right;\">\n",
       "      <th></th>\n",
       "      <th>X</th>\n",
       "      <th>Y</th>\n",
       "      <th>OBJECTID</th>\n",
       "      <th>ID</th>\n",
       "      <th>Letter</th>\n",
       "      <th>Address</th>\n",
       "      <th>City</th>\n",
       "      <th>State</th>\n",
       "      <th>Zip</th>\n",
       "      <th>Phone</th>\n",
       "      <th>Lat</th>\n",
       "      <th>Long_</th>\n",
       "      <th>Restaurant</th>\n",
       "    </tr>\n",
       "  </thead>\n",
       "  <tbody>\n",
       "    <tr>\n",
       "      <th>0</th>\n",
       "      <td>-80.2400</td>\n",
       "      <td>25.8092</td>\n",
       "      <td>1</td>\n",
       "      <td>1</td>\n",
       "      <td>b</td>\n",
       "      <td>3601 N.W. 27th Avenue</td>\n",
       "      <td>Miami</td>\n",
       "      <td>FL</td>\n",
       "      <td>33142</td>\n",
       "      <td>(305) 638-3838</td>\n",
       "      <td>25.8092</td>\n",
       "      <td>-80.2400</td>\n",
       "      <td>Burger King</td>\n",
       "    </tr>\n",
       "    <tr>\n",
       "      <th>1</th>\n",
       "      <td>-80.2094</td>\n",
       "      <td>25.8587</td>\n",
       "      <td>2</td>\n",
       "      <td>2</td>\n",
       "      <td>b</td>\n",
       "      <td>8995 N. W. 7th Avenue</td>\n",
       "      <td>Miami</td>\n",
       "      <td>FL</td>\n",
       "      <td>33150</td>\n",
       "      <td>(305) 754-8453</td>\n",
       "      <td>25.8587</td>\n",
       "      <td>-80.2094</td>\n",
       "      <td>Burger King</td>\n",
       "    </tr>\n",
       "    <tr>\n",
       "      <th>2</th>\n",
       "      <td>-80.4610</td>\n",
       "      <td>25.4849</td>\n",
       "      <td>3</td>\n",
       "      <td>3</td>\n",
       "      <td>b</td>\n",
       "      <td>30390 South Dixie Highway</td>\n",
       "      <td>Homestead</td>\n",
       "      <td>FL</td>\n",
       "      <td>33030</td>\n",
       "      <td>(305) 247-7181</td>\n",
       "      <td>25.4849</td>\n",
       "      <td>-80.4610</td>\n",
       "      <td>Burger King</td>\n",
       "    </tr>\n",
       "    <tr>\n",
       "      <th>3</th>\n",
       "      <td>-80.2415</td>\n",
       "      <td>25.8471</td>\n",
       "      <td>4</td>\n",
       "      <td>4</td>\n",
       "      <td>b</td>\n",
       "      <td>7975 N. W. 27th Avenue</td>\n",
       "      <td>Miami</td>\n",
       "      <td>FL</td>\n",
       "      <td>33147</td>\n",
       "      <td>(305) 836-8152</td>\n",
       "      <td>25.8471</td>\n",
       "      <td>-80.2415</td>\n",
       "      <td>Burger King</td>\n",
       "    </tr>\n",
       "    <tr>\n",
       "      <th>4</th>\n",
       "      <td>-80.3125</td>\n",
       "      <td>25.6849</td>\n",
       "      <td>5</td>\n",
       "      <td>5</td>\n",
       "      <td>b</td>\n",
       "      <td>9201 South Dixie Highway</td>\n",
       "      <td>Miami</td>\n",
       "      <td>FL</td>\n",
       "      <td>33156</td>\n",
       "      <td>(305) 666-1130</td>\n",
       "      <td>25.6849</td>\n",
       "      <td>-80.3125</td>\n",
       "      <td>Burger King</td>\n",
       "    </tr>\n",
       "  </tbody>\n",
       "</table>\n",
       "</div>"
      ],
      "text/plain": [
       "         X        Y  OBJECTID  ID Letter                    Address  \\\n",
       "0 -80.2400  25.8092         1   1      b      3601 N.W. 27th Avenue   \n",
       "1 -80.2094  25.8587         2   2      b      8995 N. W. 7th Avenue   \n",
       "2 -80.4610  25.4849         3   3      b  30390 South Dixie Highway   \n",
       "3 -80.2415  25.8471         4   4      b     7975 N. W. 27th Avenue   \n",
       "4 -80.3125  25.6849         5   5      b   9201 South Dixie Highway   \n",
       "\n",
       "        City State    Zip           Phone      Lat    Long_   Restaurant  \n",
       "0      Miami    FL  33142  (305) 638-3838  25.8092 -80.2400  Burger King  \n",
       "1      Miami    FL  33150  (305) 754-8453  25.8587 -80.2094  Burger King  \n",
       "2  Homestead    FL  33030  (305) 247-7181  25.4849 -80.4610  Burger King  \n",
       "3      Miami    FL  33147  (305) 836-8152  25.8471 -80.2415  Burger King  \n",
       "4      Miami    FL  33156  (305) 666-1130  25.6849 -80.3125  Burger King  "
      ]
     },
     "execution_count": 40,
     "metadata": {},
     "output_type": "execute_result"
    }
   ],
   "source": [
    "# display df3\n",
    "df3.head()"
   ]
  },
  {
   "cell_type": "code",
   "execution_count": 41,
   "metadata": {},
   "outputs": [
    {
     "data": {
      "text/plain": [
       "False"
      ]
     },
     "execution_count": 41,
     "metadata": {},
     "output_type": "execute_result"
    }
   ],
   "source": [
    "# check to see if the data frames are the same\n",
    "df1.equals(df2)"
   ]
  },
  {
   "cell_type": "code",
   "execution_count": 42,
   "metadata": {},
   "outputs": [
    {
     "data": {
      "text/plain": [
       "False"
      ]
     },
     "execution_count": 42,
     "metadata": {},
     "output_type": "execute_result"
    }
   ],
   "source": [
    "# check to see if the data frames are the same\n",
    "df1.equals(df3)"
   ]
  },
  {
   "cell_type": "code",
   "execution_count": 43,
   "metadata": {},
   "outputs": [
    {
     "data": {
      "text/plain": [
       "True"
      ]
     },
     "execution_count": 43,
     "metadata": {},
     "output_type": "execute_result"
    }
   ],
   "source": [
    "# check to see if the data frames are the same - only use one of these moving forward since they are the same\n",
    "df2.equals(df3)"
   ]
  },
  {
   "cell_type": "code",
   "execution_count": 44,
   "metadata": {},
   "outputs": [
    {
     "name": "stdout",
     "output_type": "stream",
     "text": [
      "<class 'pandas.core.frame.DataFrame'>\n",
      "RangeIndex: 50002 entries, 0 to 50001\n",
      "Data columns (total 13 columns):\n",
      " #   Column      Non-Null Count  Dtype  \n",
      "---  ------      --------------  -----  \n",
      " 0   X           50002 non-null  float64\n",
      " 1   Y           50002 non-null  float64\n",
      " 2   OBJECTID    50002 non-null  int64  \n",
      " 3   ID          50002 non-null  int64  \n",
      " 4   Letter      50002 non-null  object \n",
      " 5   Address     50002 non-null  object \n",
      " 6   City        50002 non-null  object \n",
      " 7   State       50002 non-null  object \n",
      " 8   Zip         50002 non-null  object \n",
      " 9   Phone       29977 non-null  object \n",
      " 10  Lat         50002 non-null  float64\n",
      " 11  Long_       50002 non-null  float64\n",
      " 12  Restaurant  50002 non-null  object \n",
      "dtypes: float64(4), int64(2), object(7)\n",
      "memory usage: 5.0+ MB\n"
     ]
    }
   ],
   "source": [
    "# check the value count of restaurants\n",
    "df1.info()"
   ]
  },
  {
   "cell_type": "code",
   "execution_count": 45,
   "metadata": {},
   "outputs": [
    {
     "data": {
      "text/plain": [
       "Restaurant\n",
       "McDonald's     13745\n",
       "Burger King     7435\n",
       "Pizza Hut       6214\n",
       "Taco Bell       6164\n",
       "Wendy's         5971\n",
       "KFC             5424\n",
       "Jack            2057\n",
       "Hardee's        1802\n",
       "Carl's Jr.       987\n",
       "In-N-Out         203\n",
       "Name: count, dtype: int64"
      ]
     },
     "execution_count": 45,
     "metadata": {},
     "output_type": "execute_result"
    }
   ],
   "source": [
    "# see what restaurants are in the data\n",
    "df1['Restaurant'].value_counts()"
   ]
  },
  {
   "cell_type": "code",
   "execution_count": 46,
   "metadata": {},
   "outputs": [
    {
     "data": {
      "text/plain": [
       "Restaurant\n",
       "McDonald's     13745\n",
       "Burger King     7435\n",
       "Taco Bell       6164\n",
       "Name: count, dtype: int64"
      ]
     },
     "execution_count": 46,
     "metadata": {},
     "output_type": "execute_result"
    }
   ],
   "source": [
    "# filter for only the three restaurants we are tracking\n",
    "restaurants = [\"McDonald's\", \"Burger King\", \"Taco Bell\"]\n",
    "\n",
    "res_df = df1.loc[df1['Restaurant'].isin(restaurants)]\n",
    "res_df['Restaurant'].value_counts()"
   ]
  },
  {
   "cell_type": "code",
   "execution_count": 49,
   "metadata": {},
   "outputs": [
    {
     "data": {
      "text/plain": [
       "State\n",
       "MN    452\n",
       "Name: count, dtype: int64"
      ]
     },
     "execution_count": 49,
     "metadata": {},
     "output_type": "execute_result"
    }
   ],
   "source": [
    "# check the length of res_df\n",
    "res_df = res_df.loc[res_df['State'] == 'MN']\n",
    "res_df['State'].value_counts()"
   ]
  },
  {
   "cell_type": "code",
   "execution_count": 54,
   "metadata": {},
   "outputs": [
    {
     "data": {
      "text/plain": [
       "Restaurant\n",
       "McDonald's     218\n",
       "Burger King    146\n",
       "Taco Bell       88\n",
       "Name: count, dtype: int64"
      ]
     },
     "execution_count": 54,
     "metadata": {},
     "output_type": "execute_result"
    }
   ],
   "source": [
    "# number of each restaurant in minnesota\n",
    "res_df['Restaurant'].value_counts()"
   ]
  },
  {
   "cell_type": "code",
   "execution_count": 56,
   "metadata": {},
   "outputs": [
    {
     "data": {},
     "metadata": {},
     "output_type": "display_data"
    },
    {
     "data": {
      "application/vnd.holoviews_exec.v0+json": "",
      "text/html": [
       "<div id='p1342'>\n",
       "  <div id=\"eb745d8c-54cb-42d5-b81a-a36b025ae50a\" data-root-id=\"p1342\" style=\"display: contents;\"></div>\n",
       "</div>\n",
       "<script type=\"application/javascript\">(function(root) {\n",
       "  var docs_json = {\"36fbf17e-b8db-4aa7-8cc5-34eb39d2c46f\":{\"version\":\"3.2.1\",\"title\":\"Bokeh Application\",\"roots\":[{\"type\":\"object\",\"name\":\"Row\",\"id\":\"p1342\",\"attributes\":{\"name\":\"Row02266\",\"tags\":[\"embedded\"],\"stylesheets\":[\"\\n:host(.pn-loading.pn-arc):before, .pn-loading.pn-arc:before {\\n  background-image: url(\\\"data:image/svg+xml;base64,PHN2ZyB4bWxucz0iaHR0cDovL3d3dy53My5vcmcvMjAwMC9zdmciIHN0eWxlPSJtYXJnaW46IGF1dG87IGJhY2tncm91bmQ6IG5vbmU7IGRpc3BsYXk6IGJsb2NrOyBzaGFwZS1yZW5kZXJpbmc6IGF1dG87IiB2aWV3Qm94PSIwIDAgMTAwIDEwMCIgcHJlc2VydmVBc3BlY3RSYXRpbz0ieE1pZFlNaWQiPiAgPGNpcmNsZSBjeD0iNTAiIGN5PSI1MCIgZmlsbD0ibm9uZSIgc3Ryb2tlPSIjYzNjM2MzIiBzdHJva2Utd2lkdGg9IjEwIiByPSIzNSIgc3Ryb2tlLWRhc2hhcnJheT0iMTY0LjkzMzYxNDMxMzQ2NDE1IDU2Ljk3Nzg3MTQzNzgyMTM4Ij4gICAgPGFuaW1hdGVUcmFuc2Zvcm0gYXR0cmlidXRlTmFtZT0idHJhbnNmb3JtIiB0eXBlPSJyb3RhdGUiIHJlcGVhdENvdW50PSJpbmRlZmluaXRlIiBkdXI9IjFzIiB2YWx1ZXM9IjAgNTAgNTA7MzYwIDUwIDUwIiBrZXlUaW1lcz0iMDsxIj48L2FuaW1hdGVUcmFuc2Zvcm0+ICA8L2NpcmNsZT48L3N2Zz4=\\\");\\n  background-size: auto calc(min(50%, 400px));\\n}\",{\"type\":\"object\",\"name\":\"ImportedStyleSheet\",\"id\":\"p1345\",\"attributes\":{\"url\":\"https://cdn.holoviz.org/panel/1.2.3/dist/css/loading.css\"}},{\"type\":\"object\",\"name\":\"ImportedStyleSheet\",\"id\":\"p1422\",\"attributes\":{\"url\":\"https://cdn.holoviz.org/panel/1.2.3/dist/css/listpanel.css\"}},{\"type\":\"object\",\"name\":\"ImportedStyleSheet\",\"id\":\"p1343\",\"attributes\":{\"url\":\"https://cdn.holoviz.org/panel/1.2.3/dist/bundled/theme/default.css\"}},{\"type\":\"object\",\"name\":\"ImportedStyleSheet\",\"id\":\"p1344\",\"attributes\":{\"url\":\"https://cdn.holoviz.org/panel/1.2.3/dist/bundled/theme/native.css\"}}],\"margin\":0,\"sizing_mode\":\"stretch_width\",\"align\":\"start\",\"children\":[{\"type\":\"object\",\"name\":\"Spacer\",\"id\":\"p1346\",\"attributes\":{\"name\":\"HSpacer02276\",\"stylesheets\":[\"\\n:host(.pn-loading.pn-arc):before, .pn-loading.pn-arc:before {\\n  background-image: url(\\\"data:image/svg+xml;base64,PHN2ZyB4bWxucz0iaHR0cDovL3d3dy53My5vcmcvMjAwMC9zdmciIHN0eWxlPSJtYXJnaW46IGF1dG87IGJhY2tncm91bmQ6IG5vbmU7IGRpc3BsYXk6IGJsb2NrOyBzaGFwZS1yZW5kZXJpbmc6IGF1dG87IiB2aWV3Qm94PSIwIDAgMTAwIDEwMCIgcHJlc2VydmVBc3BlY3RSYXRpbz0ieE1pZFlNaWQiPiAgPGNpcmNsZSBjeD0iNTAiIGN5PSI1MCIgZmlsbD0ibm9uZSIgc3Ryb2tlPSIjYzNjM2MzIiBzdHJva2Utd2lkdGg9IjEwIiByPSIzNSIgc3Ryb2tlLWRhc2hhcnJheT0iMTY0LjkzMzYxNDMxMzQ2NDE1IDU2Ljk3Nzg3MTQzNzgyMTM4Ij4gICAgPGFuaW1hdGVUcmFuc2Zvcm0gYXR0cmlidXRlTmFtZT0idHJhbnNmb3JtIiB0eXBlPSJyb3RhdGUiIHJlcGVhdENvdW50PSJpbmRlZmluaXRlIiBkdXI9IjFzIiB2YWx1ZXM9IjAgNTAgNTA7MzYwIDUwIDUwIiBrZXlUaW1lcz0iMDsxIj48L2FuaW1hdGVUcmFuc2Zvcm0+ICA8L2NpcmNsZT48L3N2Zz4=\\\");\\n  background-size: auto calc(min(50%, 400px));\\n}\",{\"id\":\"p1345\"},{\"id\":\"p1343\"},{\"id\":\"p1344\"}],\"margin\":0,\"sizing_mode\":\"stretch_width\",\"align\":\"start\"}},{\"type\":\"object\",\"name\":\"Figure\",\"id\":\"p1363\",\"attributes\":{\"width\":null,\"height\":null,\"margin\":[5,10],\"sizing_mode\":\"fixed\",\"align\":\"start\",\"x_range\":{\"type\":\"object\",\"name\":\"Range1d\",\"id\":\"p1353\",\"attributes\":{\"tags\":[[[\"Long_\",\"Long_\",null]],[]],\"start\":-11284985.489681374,\"end\":-9714312.121612754,\"reset_start\":-11284985.489681374,\"reset_end\":-9714312.121612754,\"min_interval\":5}},\"y_range\":{\"type\":\"object\",\"name\":\"Range1d\",\"id\":\"p1354\",\"attributes\":{\"tags\":[[[\"Lat\",\"Lat\",null]],{\"type\":\"map\",\"entries\":[[\"invert_yaxis\",false],[\"autorange\",false]]}],\"start\":5326201.757430104,\"end\":6307872.6124729905,\"reset_start\":5326201.757430104,\"reset_end\":6307872.6124729905,\"min_interval\":5}},\"x_scale\":{\"type\":\"object\",\"name\":\"LinearScale\",\"id\":\"p1373\"},\"y_scale\":{\"type\":\"object\",\"name\":\"LinearScale\",\"id\":\"p1374\"},\"title\":{\"type\":\"object\",\"name\":\"Title\",\"id\":\"p1366\",\"attributes\":{\"text\":\"Fast Food Restaurant Locations in Minnesota\",\"text_color\":\"black\",\"text_font_size\":\"12pt\"}},\"renderers\":[{\"type\":\"object\",\"name\":\"TileRenderer\",\"id\":\"p1398\",\"attributes\":{\"level\":\"glyph\",\"tile_source\":{\"type\":\"object\",\"name\":\"WMTSTileSource\",\"id\":\"p1394\",\"attributes\":{\"url\":\"https://c.tile.openstreetmap.org/{Z}/{X}/{Y}.png\",\"attribution\":\"&copy; <a href=\\\"https://www.openstreetmap.org/copyright\\\">OpenStreetMap</a> contributors\"}}}},{\"type\":\"object\",\"name\":\"GlyphRenderer\",\"id\":\"p1412\",\"attributes\":{\"name\":\"color\",\"data_source\":{\"type\":\"object\",\"name\":\"ColumnDataSource\",\"id\":\"p1401\",\"attributes\":{\"selected\":{\"type\":\"object\",\"name\":\"Selection\",\"id\":\"p1402\",\"attributes\":{\"indices\":[],\"line_indices\":[]}},\"selection_policy\":{\"type\":\"object\",\"name\":\"UnionRenderers\",\"id\":\"p1403\"},\"data\":{\"type\":\"map\",\"entries\":[[\"Long_\",{\"type\":\"ndarray\",\"array\":{\"type\":\"bytes\",\"data\":\"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\"},\"shape\":[452],\"dtype\":\"float64\",\"order\":\"little\"}],[\"Lat\",{\"type\":\"ndarray\",\"array\":{\"type\":\"bytes\",\"data\":\"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\"},\"shape\":[452],\"dtype\":\"float64\",\"order\":\"little\"}],[\"Restaurant\",{\"type\":\"ndarray\",\"array\":[\"Burger King\",\"Burger King\",\"Burger King\",\"Burger King\",\"Burger King\",\"Burger King\",\"Burger King\",\"Burger King\",\"Burger King\",\"Burger King\",\"Burger King\",\"Burger King\",\"Burger King\",\"Burger King\",\"Burger King\",\"Burger King\",\"Burger King\",\"Burger King\",\"Burger King\",\"Burger King\",\"Burger King\",\"Burger King\",\"Burger King\",\"Burger King\",\"Burger King\",\"Burger King\",\"Burger King\",\"Burger King\",\"Burger King\",\"Burger King\",\"Burger King\",\"Burger King\",\"Burger King\",\"Burger King\",\"Burger King\",\"Burger King\",\"Burger King\",\"Burger King\",\"Burger King\",\"Burger King\",\"Burger King\",\"Burger King\",\"Burger King\",\"Burger King\",\"Burger King\",\"Burger King\",\"Burger King\",\"Burger King\",\"Burger King\",\"Burger King\",\"Burger King\",\"Burger King\",\"Burger King\",\"Burger King\",\"Burger King\",\"Burger King\",\"Burger King\",\"Burger King\",\"Burger King\",\"Burger King\",\"Burger King\",\"Burger King\",\"Burger King\",\"Burger King\",\"Burger King\",\"Burger King\",\"Burger King\",\"Burger King\",\"Burger King\",\"Burger King\",\"Burger King\",\"Burger King\",\"Burger King\",\"Burger King\",\"Burger King\",\"Burger King\",\"Burger King\",\"Burger King\",\"Burger King\",\"Burger King\",\"Burger King\",\"Burger King\",\"Burger King\",\"Burger King\",\"Burger King\",\"Burger King\",\"Burger King\",\"Burger King\",\"Burger King\",\"Burger King\",\"Burger King\",\"Burger King\",\"Burger King\",\"Burger King\",\"Burger King\",\"Burger King\",\"Burger King\",\"Burger King\",\"Burger King\",\"Burger King\",\"Burger King\",\"Burger King\",\"Burger King\",\"Burger King\",\"Burger King\",\"Burger King\",\"Burger King\",\"Burger King\",\"Burger King\",\"Burger King\",\"Burger King\",\"Burger King\",\"Burger King\",\"Burger King\",\"Burger King\",\"Burger King\",\"Burger King\",\"Burger King\",\"Burger King\",\"Burger King\",\"Burger King\",\"Burger King\",\"Burger King\",\"Burger King\",\"Burger King\",\"Burger King\",\"Burger King\",\"Burger King\",\"Burger King\",\"Burger King\",\"Burger King\",\"Burger King\",\"Burger King\",\"Burger King\",\"Burger King\",\"Burger King\",\"Burger King\",\"Burger King\",\"Burger King\",\"Burger King\",\"Burger King\",\"Burger King\",\"Burger King\",\"Burger King\",\"Burger King\",\"Burger King\",\"McDonald's\",\"McDonald's\",\"McDonald's\",\"McDonald's\",\"McDonald's\",\"McDonald's\",\"McDonald's\",\"McDonald's\",\"McDonald's\",\"McDonald's\",\"McDonald's\",\"McDonald's\",\"McDonald's\",\"McDonald's\",\"McDonald's\",\"McDonald's\",\"McDonald's\",\"McDonald's\",\"McDonald's\",\"McDonald's\",\"McDonald's\",\"McDonald's\",\"McDonald's\",\"McDonald's\",\"McDonald's\",\"McDonald's\",\"McDonald's\",\"McDonald's\",\"McDonald's\",\"McDonald's\",\"McDonald's\",\"McDonald's\",\"McDonald's\",\"McDonald's\",\"McDonald's\",\"McDonald's\",\"McDonald's\",\"McDonald's\",\"McDonald's\",\"McDonald's\",\"McDonald's\",\"McDonald's\",\"McDonald's\",\"McDonald's\",\"McDonald's\",\"McDonald's\",\"McDonald's\",\"McDonald's\",\"McDonald's\",\"McDonald's\",\"McDonald's\",\"McDonald's\",\"McDonald's\",\"McDonald's\",\"McDonald's\",\"McDonald's\",\"McDonald's\",\"McDonald's\",\"McDonald's\",\"McDonald's\",\"McDonald's\",\"McDonald's\",\"McDonald's\",\"McDonald's\",\"McDonald's\",\"McDonald's\",\"McDonald's\",\"McDonald's\",\"McDonald's\",\"McDonald's\",\"McDonald's\",\"McDonald's\",\"McDonald's\",\"McDonald's\",\"McDonald's\",\"McDonald's\",\"McDonald's\",\"McDonald's\",\"McDonald's\",\"McDonald's\",\"McDonald's\",\"McDonald's\",\"McDonald's\",\"McDonald's\",\"McDonald's\",\"McDonald's\",\"McDonald's\",\"McDonald's\",\"McDonald's\",\"McDonald's\",\"McDonald's\",\"McDonald's\",\"McDonald's\",\"McDonald's\",\"McDonald's\",\"McDonald's\",\"McDonald's\",\"McDonald's\",\"McDonald's\",\"McDonald's\",\"McDonald's\",\"McDonald's\",\"McDonald's\",\"McDonald's\",\"McDonald's\",\"McDonald's\",\"McDonald's\",\"McDonald's\",\"McDonald's\",\"McDonald's\",\"McDonald's\",\"McDonald's\",\"McDonald's\",\"McDonald's\",\"McDonald's\",\"McDonald's\",\"McDonald's\",\"McDonald's\",\"McDonald's\",\"McDonald's\",\"McDonald's\",\"McDonald's\",\"McDonald's\",\"McDonald's\",\"McDonald's\",\"McDonald's\",\"McDonald's\",\"McDonald's\",\"McDonald's\",\"McDonald's\",\"McDonald's\",\"McDonald's\",\"McDonald's\",\"McDonald's\",\"McDonald's\",\"McDonald's\",\"McDonald's\",\"McDonald's\",\"McDonald's\",\"McDonald's\",\"McDonald's\",\"McDonald's\",\"McDonald's\",\"McDonald's\",\"McDonald's\",\"McDonald's\",\"McDonald's\",\"McDonald's\",\"McDonald's\",\"McDonald's\",\"McDonald's\",\"McDonald's\",\"McDonald's\",\"McDonald's\",\"McDonald's\",\"McDonald's\",\"McDonald's\",\"McDonald's\",\"McDonald's\",\"McDonald's\",\"McDonald's\",\"McDonald's\",\"McDonald's\",\"McDonald's\",\"McDonald's\",\"McDonald's\",\"McDonald's\",\"McDonald's\",\"McDonald's\",\"McDonald's\",\"McDonald's\",\"McDonald's\",\"McDonald's\",\"McDonald's\",\"McDonald's\",\"McDonald's\",\"McDonald's\",\"McDonald's\",\"McDonald's\",\"McDonald's\",\"McDonald's\",\"McDonald's\",\"McDonald's\",\"McDonald's\",\"McDonald's\",\"McDonald's\",\"McDonald's\",\"McDonald's\",\"McDonald's\",\"McDonald's\",\"McDonald's\",\"McDonald's\",\"McDonald's\",\"McDonald's\",\"McDonald's\",\"McDonald's\",\"McDonald's\",\"McDonald's\",\"McDonald's\",\"McDonald's\",\"McDonald's\",\"McDonald's\",\"McDonald's\",\"McDonald's\",\"McDonald's\",\"McDonald's\",\"McDonald's\",\"McDonald's\",\"McDonald's\",\"McDonald's\",\"McDonald's\",\"McDonald's\",\"McDonald's\",\"McDonald's\",\"McDonald's\",\"McDonald's\",\"McDonald's\",\"McDonald's\",\"Taco Bell\",\"Taco Bell\",\"Taco Bell\",\"Taco Bell\",\"Taco Bell\",\"Taco Bell\",\"Taco Bell\",\"Taco Bell\",\"Taco Bell\",\"Taco Bell\",\"Taco Bell\",\"Taco Bell\",\"Taco Bell\",\"Taco Bell\",\"Taco Bell\",\"Taco Bell\",\"Taco Bell\",\"Taco Bell\",\"Taco Bell\",\"Taco Bell\",\"Taco Bell\",\"Taco Bell\",\"Taco Bell\",\"Taco Bell\",\"Taco Bell\",\"Taco Bell\",\"Taco Bell\",\"Taco Bell\",\"Taco Bell\",\"Taco Bell\",\"Taco Bell\",\"Taco Bell\",\"Taco Bell\",\"Taco Bell\",\"Taco Bell\",\"Taco Bell\",\"Taco Bell\",\"Taco Bell\",\"Taco Bell\",\"Taco Bell\",\"Taco Bell\",\"Taco Bell\",\"Taco Bell\",\"Taco Bell\",\"Taco Bell\",\"Taco Bell\",\"Taco Bell\",\"Taco Bell\",\"Taco Bell\",\"Taco Bell\",\"Taco Bell\",\"Taco Bell\",\"Taco Bell\",\"Taco Bell\",\"Taco Bell\",\"Taco Bell\",\"Taco Bell\",\"Taco Bell\",\"Taco Bell\",\"Taco Bell\",\"Taco Bell\",\"Taco Bell\",\"Taco Bell\",\"Taco Bell\",\"Taco Bell\",\"Taco Bell\",\"Taco Bell\",\"Taco Bell\",\"Taco Bell\",\"Taco Bell\",\"Taco Bell\",\"Taco Bell\",\"Taco Bell\",\"Taco Bell\",\"Taco Bell\",\"Taco Bell\",\"Taco Bell\",\"Taco Bell\",\"Taco Bell\",\"Taco Bell\",\"Taco Bell\",\"Taco Bell\",\"Taco Bell\",\"Taco Bell\",\"Taco Bell\",\"Taco Bell\",\"Taco Bell\",\"Taco Bell\"],\"shape\":[452],\"dtype\":\"object\",\"order\":\"little\"}],[\"Address\",{\"type\":\"ndarray\",\"array\":[\"2800 West 66th Street\",\"3342 Nicollet Avenue South\",\"100 West 98th Street\",\"841 Maryland Avenue, East\",\"123 West Main Street\",\"3310 Division Road\",\"2151 North Snelling Ave.\",\"6660 Wayzata Blvd.\",\"1717 Central Avenue, N. E.\",\"7501 - 150th Street, West\",\"140 E. 78th Street\",\"333 University Avenue\",\"1200 East Wayzata Boulevard\",\"615 South Broadway\",\"1215 Gilmore Ave\",\"808 West Washington\",\"2011 East Main\",\"12309 Central Avenue\",\"222 Lincoln Avenue, S. E.\",\"1600 West 7th Street\",\"208 E. Central Entrance\",\"9008 Penn Avenue, South\",\"200 South 6th Streest, Pillsbury Center\",\"303 30th Avenue\",\"1650 Robert Street South\",\"14430 28th Place North\",\"1330 East 1st Avenue\",\"16345 West 78th Street\",\"8340 Crystal View Drive\",\"14251 Nicolet Avenue\",\"2651 County Road I\",\"5020 160th Street S. E.\",\"1150 East Highway 13\",\"1201 South 1st Street\",\"1131 Broadway\",\"4107 Highway 52 North, East Frontage Road\",\"1948 West Wayzata Boulevard\",\"3650 Aquila Avenue, South\",\"200 Lauring Lane\",\"17395 Kenwood Trail\",\"8501 Xylon Avenue North\",\"13840 Grove Drive\",\"1501 Nw 7 Street\",\"10000 County Road 9\",\"2080 West County Road C\",\"850 Freeport Ave, Elk River Plaza\",\"2412 Eighth Street South\",\"2025 Northdale Boulevard\",\"436 Canal Park Drive\",\"1275 Town Centre Drive\",\"100 Paul Bunyan Drive, Sw\",\"1404 Madison Avenue\",\"9390 Lexington Avenue\",\"1021 Fifteenth Avenue, Se\",\"1229 East College Drive\",\"2535 Division Street North\",\"1501 Weir Drive\",\"100 Grand Avenue East\",\"1550 North Broadway\",\"4605 Hiawatha Ave.\",\"2316 Maplewood Mall\",\"455 South Robert St.\",\"3751 N. Lexington Ave.\",\"8510 Edinburgh Center Drive\",\"10801 Bloomington Ferry Road\",\"1600 Miller Trunk Hwy., Miller Hill Mall-Fdct\",\"1980 Rahncliff Court\",\"2120 London Road\",\"7051 10th Street North\",\"1022 East Blue Earth Avenue\",\"1215 Gun Club Road\",\"1318 South Riverfront Drive\",\"1698 Rice Street\",\"100 West 33rd Street\",\"590 Northtown Drive\",\"13005 Riverdale Drive\",\"14 East Old Veterans Memorial,, Highway East\",\"3538 Southdale Center\",\"735 Bridge Street\",\"1598 Hastings Road\",\"330 North Garden, Mall Of Americas\",\"8501 Springbrook Drive\",\"100 21st Street North\",\"3333 Rice Street\",\"1185 West Highway 7\",\"5105 Industrial Boulevard\",\"1536 175th Lane North East\",\"1409 4th Street Nw\",\"108 Ninth Avenue Circle South\",\"471 East Highway 10\",\"126 N. E. 4th. Street\",\"255 Triangle Lane\",\"403 Fire Monument Road\",\"5358 West Broadway\",\"1745 Commerce Drive\",\"15 South Benton Drive\",\"3200 Washington Avenue North\",\"96 West 66 Street\",\"1535 North Lakeshore Drive\",\"10861 University Avenue N. E.\",\"318 East Kraft Drive\",\"Moorhead State University, 725 South 14th Street\",\"244 Grand Avenue\",\"695 East 7 Street\",\"1112 First Avenues N. E.\",\"2200 10th Street East\",\"849 North Jefferson\",\"3460 150th Street West\",\"209 Nokomis Street\",\"120 Elm Street\",\"1560 West 4th Street\",\"9896 Norma Lane\",\"1500 Stinson Boulevard Ne\",\"Minneapolis/St Paul Airport, Red Concourse/4300 Glumack Rd., Unit 64h.54\",\"516 East Bridge Street\",\"8481 S. E. Point Douglas Road\",\"38711 Tanger Drive\",\"210 South 27 Avenue\",\"1322 Oxford Street\",\"201 2nd N.E.\",\"206 14th Street N,\",\"Minneapolis-St Paul Airport, Main Concourse, 4300 Glumack Road, Unit 64h.03\",\"21421 South Diamond Lake Road\",\"5907 Neal Avenue North\",\"528 Western Avenue\",\"705 Vernon Avenue East\",\"17555 State Highway 7\",\"925 Washington Avenue. Se\",\"Minneapolis-St. Paul Airport, Blue Concourse, Unit 64h.55\",\"21 Depot Street\",\"205 Lake Street\",\"7205 Highway 10 North\",\"1301bollenbacker Drive\",\"720 4th Avenue South\",\"289 57th Avenue N.E.\",\"2575 Hannah Avenue N.W.\",\"926 Central Avenue Ne\",\"945 Ash Street\",\"3201 County Road 10\",\"818 West Broadway\",\"2440 White Bear Avenue\",\"6495 Labeux Avenue N.E.\",\"1611 East Highway 12\",\"2000 North Highway 71\",\"1922 South Broadwy\",\"2630 S Broadway Ave\",\"1 Central St\",\"100 Garfield St S\",\"100 Oakwood Dr\",\"100 Tenth Ave. Se Suite 2\",\"100 Walmart Ln (Walmart #2352)\",\"1001 S Kniss\",\"1009 W Oakland Ave\",\"101 S Park Avenue\",\"101 South Hwy 53 & Pine St\",\"1021 East Hwy\",\"10270 Baltimore Street Ne Suite 100\",\"104 Lemieur St\",\"1075 Diffley Rd\",\"1081 Hwy 96\",\"1098 Hwy 15 S\",\"110 E Central Entrance\",\"1100 University Ave Ne\",\"1101 S Hwy 3\",\"1105 W Frontage Rd\",\"1116 Broadway Nw\",\"1124 Atlantic Ave Po Box 469\",\"1130 7th Ave\",\"11364 Foley Blvd Nw\",\"1168 Silver Lake Rd\",\"120 Twin Rivers Ct\",\"120 West St. Julien Street\",\"1200 E College Dr\",\"1202 Buccaneer Dr\",\"1210 Timberlane Drive\",\"1212 Central Ave Ne\",\"1221 Pokegama Ave S\",\"12321 Champlin Dr\",\"12401 Ulysses St Ne\",\"1244 W Broadway Po Box 87\",\"1245 Paul Bunyan Dr Nw\",\"1271 E Bridge St\",\"1273 S Robert St\",\"12945 Rolling Ridge Road\",\"13020 Riverdale Dr (Walmart #1562)\",\"1306 Apache Drive, S.W.\",\"1308 S Highway 33 (Walmart #1929)\",\"1313 W Cord E\",\"1315 Hwy 25 North (Walmart #1577)\",\"1340 S Frontage Rd\",\"1350 S 12th Avenue\",\"1351 Town Centre Dr\",\"13595 83rd Way\",\"13731 Round Lake Blvd\",\"1388 Maryland Avenue\",\"1402 14th St Nw\",\"1411 Madison Ave\",\"1419 East 41st Street\",\"14200 Grand Ave S\",\"1440 Stinson Blvd\",\"1450 8th St Nw\",\"1450 E Wayzata Blvd\",\"14545 60th St N\",\"1480 - 85th Avenue, North\",\"1490 Babcock Blvd\",\"150 W Lind Ct\",\"15035 Canada Ave\",\"1505 2nd St Sw\",\"15232 Bluebird Street Nw\",\"1535 Rice Street\",\"1570 W University Ave\",\"1600 N State St\",\"1620 Service Dr\",\"16831 Hwy 13 Se\",\"1701 Oxford Street\",\"1705 S Broadway\",\"1706 E Highway 7\",\"172 Main St\",\"1752 N Frontage Rd (Walmart 1472)\",\"1759 Weir Dr\",\"1797 Cope Ave\",\"1811 University Ave\",\"18185 Zane St. (Walmart)\",\"1841 Suburban Ave\",\"186 6th St\",\"1921 Adams Street\",\"1937 West Frontage Road\",\"1995 Silver Bell Rd\",\"20 Ash Ave Nw\",\"20158 Icenic Trail\",\"2020 Dodd Rd\",\"2070 E Cord E\",\"2075 Snelling Ave N\",\"2085 College Way\",\"210 2nd St S\",\"210 E Lake St\",\"21044 Kenrick Ave\",\"2105 London Rd\",\"2120 W Division St\",\"21300 Rogers Drive\",\"220 8th Street, South\",\"2201 Hwy 10\",\"2213 University Avenue\",\"2260 Rice St\",\"227 Marschall Rd\",\"2300 N. State Street\",\"2308 Eden Prairie Ctr\",\"23100 Saint Francis Blvd\",\"2322 West 7th Street\",\"2378 Pine Road Nw\",\"2400 Nicollet Ave S\",\"2410 W Industrial Blvd\",\"244 57th Ave Ne\",\"260 Triangle Lane\",\"2705 Annapolis Cir\",\"2730 Minnehaha Avenue\",\"2770 N Service Dr\",\"2808 Bridge Avenue\",\"2901 W Hwy 13\",\"2929 Hennepin Ave S\",\"2935 Southlawn Dr\",\"295 Tyler Road S (Walmart #3534)\",\"30 E 7th St\",\"3009 Hwy 10 E\",\"303 7th St Ne\",\"304 Blattner Drive\",\"3045 Holiday Ln\",\"3075 80th St E\",\"3080 Coon Rapids Blvd\",\"3110 E Lake St\",\"313 1st Ave S\",\"31675 65th Ave\",\"3220 Southdale Cir\",\"3231 Northdale Blvd\",\"330 Jefferson Blvd\",\"350 Central Ave E\",\"391 South Blvd\",\"3990 12th Ave\",\"3990 County Rd #42\",\"4000 W Old Shakopee Rd\",\"401 N Robert St Ste 223\",\"407 15th Ave Se\",\"410 Faxon Road North\",\"4121 Hiawatha Ave\",\"415 E Frazee\",\"4201 Winnetka Ave\",\"428 N Central\",\"4300 Glumac Dr Box 1\",\"4301 Menard Dr\",\"4311 Clearwater Rd\",\"4435 Lyndale Ave N\",\"456 Great Oak Drive\",\"4565 Erin Lane\",\"4601 Lake Dr\",\"4605 Central Ave Ne\",\"4637 Shady Oak Road\",\"471 Marion Street\",\"4811 E Viking Blvd\",\"4910 Hwy 29 S\",\"4950 Highway #61\",\"500 Highway 212 East\",\"505 Ne Washington St\",\"520 Paul Bunyan Dr\",\"5200 Excelsior Blvd\",\"521 W Washington St\",\"525 N.W. 4th Street\",\"5400 W Broadway\",\"5500 E Frontage Rd\",\"551 Jefferson St\",\"5525 Xerxes Ave N\",\"555 Nicollet Mall Gaviidae Commons\",\"56 E 6th St #213\",\"5760 Cahill Ave\",\"5835 St. Croix Trail\",\"598 Prairie Center Drive\",\"609 8th Ave Se\",\"609 E Main St\",\"610 Apollo Dr\",\"6255 Sycamore Lane North\",\"6320 W Lake St\",\"6645 Lyndale Avenue South\",\"6874 W Frontage Rd\",\"700 Dodge Avenue\",\"700 E 79th St (Walmart #2198)\",\"701 Northland Drive\",\"709 Hwy 33 S\",\"710 Iron Miner Memorial Road\",\"717 S 1st St\",\"720 N Winnetka Ave\",\"720 W Main St\",\"729 Long Lake Rd\",\"7295 Glory Road\",\"7355 Point Douglas Rd\",\"7565 France Avenue\",\"7667 150th St W\",\"7685 West Broadway\",\"770 Excelsior Blvd\",\"7997 Southtown Ctr\",\"8040 Nicollet Ave\",\"810 E 27th St\",\"8100 University Ave Ne\",\"8101 Old Carriage Ct (Walmart #3513)\",\"8124 Hwy 65\",\"822 Hwy 55\",\"840 E Saint Germain\",\"840 Happy Trails Ln\",\"850 E Cord E (Walmart #2087)\",\"853 Sthy 29 N\",\"90 Lake Dr E\",\"9000 85th Ave North\",\"903 Main Street\",\"905 E Hwy 61\",\"910 Strong Dr\",\"916 W Broadway\",\"9240 Bloomington Ferry Rd\",\"9310 W Skyline Pky\",\"9315 Medicine Lake Rd\",\"9516 Garfield Ave S\",\"9530 Blackoaks Lane North\",\"955 High Point Drive Ne\",\"Highway 59 South\",\"Hwy 55 & 17th St\",\"Mls/St Paul Airport Gate 18\",\"N State Hwy 169 S\",\"10 - 8th Avenue S E\",\"1004 Highway 15 South\",\"1031 West Central Entrance\",\"10729 University Ave Ne\",\"109 South 7th Street\",\"1101 Larpenteur Avenue W.\",\"1120 Vierling Drive E\",\"11990 Business Park Blvd N.\",\"122 Bridge Avenue\",\"1229 N Frontage Rd\",\"124 E 7th St\",\"12739 Wayzata Blvd/Ridgedale M\",\"1279 West Broadway\",\"1295 Towncentre Dr\",\"13057 Round Lake Blvd\",\"13201 Ridgedale Drive\",\"13500 Rogers Drive\",\"13910 Grove Dr\",\"14040 S Hwy 13\",\"14175 Edgewood Dr\",\"14231 Nicollet Ave\",\"14529 60th Street North\",\"1455 Gilmore Ave\",\"1484 White Bear Avenue\",\"1500 109th Ave Ne\",\"1501 South State St\",\"15110 W Highway 7\",\"15150 Cedar Avenue\",\"1540 Stinson Blvd Ne\",\"1630 S. Roberts Street\",\"1672 Rice St\",\"16855 County Road 24\",\"17750 Kenwood Trail\",\"1819 Madison Avenue\",\"1889 West Perimeter Road\",\"1901 Highway 13 W\",\"19131 Freeport Avenue\",\"1931 Minnehaha\",\"1960 Suburban Avenue\",\"1965 County Road D\",\"2000 Cliff Rd\",\"215 Apache Mall\",\"215 East Lake Street\",\"2199 Highway 36 East\",\"2208 W. 66th\",\"2219 Highway 10\",\"2304 Maplewood Mall\",\"2500 East Lake Street\",\"2545 W. Seventh St\",\"2741 County Rd E\",\"291 Highway 10 Ne\",\"3102 Hwy 10 E\",\"321 South 8th Street\",\"3210 Southdale Circle\",\"3311 2nd St\",\"338 North Garden\",\"3464 N. Rice Street\",\"38706 14th Avenue\",\"4000 Market Place\",\"4020 E Lake St\",\"410 S Hwy 3\",\"4240 Pheasant Ridge Drive\",\"425 W Broadway\",\"4817 Hwy 29 S\",\"4900 Central Ave Ne\",\"5000 Ctr Court/Mall Of America\",\"503 Fire Monument Road\",\"515 Paul Bunyan Drive\",\"516 N Broadway\",\"5532 Brooklyn Blvd\",\"565 No Snelling\",\"647 W Main St\",\"6620 Wayzata Blvd\",\"681 West Bridge Street\",\"7 Centennial Student Un\",\"707 North Minnesota\",\"7100 Bass Lake\",\"7295 University Ave Ne\",\"7715 150th Street West\",\"810 County Road 42 West\",\"819 Cambridge\",\"8450 Joiner Way\",\"8473 Tamarack Road\",\"8530 Edinburgh Centre Dr\",\"8575 Aspen Lane North\",\"8623 E Point Douglas Rd S\",\"9230 Lyndale Ave South\",\"975 West 78th Street\"],\"shape\":[452],\"dtype\":\"object\",\"order\":\"little\"}],[\"City\",{\"type\":\"ndarray\",\"array\":[\"Richfield\",\"Minneapolis\",\"Bloomington\",\"St. Paul\",\"Anoka\",\"St. Cloud\",\"Roseville\",\"Golden Valley\",\"Minneapolis\",\"Apple Valley\",\"Richfield\",\"St. Paul\",\"Wayzata\",\"Rochester\",\"Winona\",\"Brainerd\",\"Albert Lea\",\"Blaine\",\"St. Cloud\",\"St. Paul\",\"Duluth\",\"Bloomington\",\"Minneapolis\",\"Alexandria\",\"West St. Paul\",\"Plymouth\",\"Shakopee\",\"Eden Prairie\",\"Eden Prairie\",\"Burnsville\",\"Moundsview\",\"Prior Lake\",\"Burnsville\",\"Willmar\",\"Forest Lake\",\"Rochester\",\"Long Lake\",\"St. Louis Park\",\"Monticello\",\"Lakeville\",\"Brooklyn Park\",\"Maple Grove\",\"Faribault\",\"Plymouth\",\"Roseville\",\"Elk River\",\"Moorhead\",\"Coon Rapids\",\"Duluth\",\"Eagan\",\"Bemidji\",\"Mankato\",\"Lexington\",\"Rochester\",\"Marshall\",\"North St Paul\",\"Woodbury\",\"St. Paul\",\"Rochester\",\"Minneapolis\",\"Maplewood\",\"St. Paul\",\"Arden Hills\",\"Brooklyn Park\",\"Bloomington\",\"Duluth\",\"Eagan\",\"Duluth\",\"Oakdale\",\"Fairmont\",\"White Bear Lake\",\"Mankato\",\"St. Paul\",\"Hastings\",\"Blaine\",\"Coon Rapids\",\"Kasson\",\"Edina\",\"Owatonna\",\"Newport\",\"Bloomington\",\"Coon Rapids\",\"Moorhead\",\"Shoreview\",\"Hutchinson\",\"Edina\",\"Ham Lake\",\"Austin\",\"Princeton\",\"Detroit Lakes\",\"Grand Rapids\",\"Jordan\",\"Hinckley\",\"Crystal\",\"North Mankato\",\"Sauk Rapids\",\"Minneapolis\",\"Richfield\",\"Lake City\",\"Blaine\",\"Melrose\",\"Moorhead\",\"St. Paul\",\"St. Paul\",\"Little Falls\",\"Glencoe\",\"Wadena\",\"Rosemount\",\"Alexandria\",\"Farmington\",\"Rush City\",\"Woodbury\",\"Minneapolis\",\"St. Paul\",\"Redwood Falls\",\"Cottage Grove\",\"North Branch\",\"Duluth\",\"Worthington\",\"Staples\",\"Benson\",\"St. Paul\",\"Rogers\",\"Oak Park Heights\",\"Fergus Falls\",\"Fergus Falls\",\"Minnetonka\",\"Minneapolis\",\"Minneapolis\",\"Litchfield\",\"Long Prairie\",\"Ramsey\",\"Northfield\",\"St. Cloud\",\"Fridley\",\"Bemidji\",\"East Grand Forks\",\"Clearwater\",\"Brooklyn Center\",\"Minneapolis\",\"Maplewood\",\"Albertville\",\"Willmar\",\"Jackson\",\"New Ulm\",\"Rochester\",\"Circle Pines\",\"Cambridge\",\"Monticello\",\"New Prague\",\"Cambridge\",\"Luverne\",\"Austin\",\"Park Rapids\",\"Cook\",\"Litchfield\",\"Blaine\",\"Little Falls\",\"Eagan\",\"White Bear Lake\",\"Hutchinson\",\"Duluth\",\"Minneapolis\",\"Northfield\",\"Owatonna\",\"Rochester\",\"Morris\",\"Two Harbors\",\"Coon Rapids\",\"New Brighton\",\"Sartell\",\"St. Peter\",\"Marshall\",\"Blue Earth\",\"Sauk Centre\",\"East Grand Forks\",\"Grand Rapids\",\"Champlin\",\"Blaine\",\"Forest Lake\",\"Bemidji\",\"Redwood Falls\",\"West St. Paul\",\"Becker\",\"Coon Rapids\",\"Rochester\",\"Cloquet\",\"Arden Hills\",\"Buffalo\",\"Hastings\",\"Virginia\",\"Eagan\",\"Maple Grove\",\"Andover\",\"St. Paul\",\"Austin\",\"Mankato\",\"Hibbing\",\"Burnsville\",\"Minneapolis\",\"Pine City\",\"Wayzata\",\"Stillwater\",\"Brooklyn Park\",\"Delano\",\"Mankato\",\"Rosemount\",\"Rochester\",\"Andover\",\"St. Paul\",\"St. Paul\",\"Waseca\",\"Winona\",\"Prior Lake\",\"Worthington\",\"New Ulm\",\"Montevideo\",\"Winona\",\"Hastings\",\"Woodbury\",\"Maplewood\",\"Crookston\",\"Elk River\",\"St. Paul\",\"Windom\",\"Mankato\",\"Rochester\",\"Eagan\",\"Wadena\",\"Lakeville\",\"Mendota Heights\",\"White Bear Lake\",\"Roseville\",\"Fergus Falls\",\"Waite Park\",\"Minneapolis\",\"Lakeville\",\"Duluth\",\"St. Cloud\",\"Rogers\",\"Moorhead\",\"Mounds View\",\"St. Paul\",\"Little Canada\",\"Shakopee\",\"Fairmont\",\"Eden Prairie\",\"St. Francis\",\"St. Paul\",\"Rice\",\"Minneapolis\",\"Long Lake\",\"Fridley\",\"Jordan\",\"Plymouth\",\"Maplewood\",\"Red Wing\",\"Albert Lea\",\"Burnsville\",\"Minneapolis\",\"Maplewood\",\"Red Wing\",\"St. Paul\",\"Moorhead\",\"Buffalo\",\"Avon\",\"Eagan\",\"Inver Grove Heights\",\"Coon Rapids\",\"Minneapolis\",\"St. James\",\"Cannon Falls\",\"Edina\",\"Coon Rapids\",\"Big Lake\",\"St. Michael\",\"Bloomington\",\"Shakopee\",\"Savage\",\"Bloomington\",\"St. Paul\",\"Minneapolis\",\"Norwood Young America\",\"Minneapolis\",\"Detroit Lakes\",\"New Hope\",\"West Duluth\",\"St. Paul\",\"Hermantown\",\"St. Cloud\",\"Minneapolis\",\"Waite Park\",\"Eagan\",\"Robbinsdale\",\"Minneapolis\",\"Minnetonka\",\"St. Paul\",\"Wyoming\",\"Alexandria\",\"White Bear Lake\",\"Chaska\",\"Brainerd\",\"Bemidji\",\"St. Louis Park\",\"Brainerd\",\"Faribault\",\"Crystal\",\"Rochester\",\"St. Paul\",\"Brooklyn Center\",\"Minneapolis\",\"St. Paul\",\"Inver Grove Heights\",\"North Branch\",\"Eden Prairie\",\"Pipestone\",\"Albert Lea\",\"Lino Lakes\",\"Maple Grove\",\"St. Louis Park\",\"Richfield\",\"Medford\",\"Elk River\",\"Bloomington\",\"Princeton\",\"Cloquet\",\"Chisholm\",\"Willmar\",\"Golden Valley\",\"Anoka\",\"New Brighton\",\"Baxter\",\"Cottage Grove\",\"Edina\",\"Apple Valley\",\"Brooklyn Park\",\"Excelsior\",\"Bloomington\",\"Bloomington\",\"Minneapolis\",\"Fridley\",\"Shakopee\",\"Spring Lake Park\",\"Medina\",\"St. Cloud\",\"Albert Lea\",\"Vadnais Heights\",\"Alexandria\",\"Chanhassen\",\"Brooklyn Park\",\"Baudette\",\"Winona\",\"Waconia\",\"Minneapolis\",\"Bloomington\",\"Proctor\",\"Golden Valley\",\"Bloomington\",\"Maple Grove\",\"Byron\",\"Thief River Falls\",\"International Falls\",\"St. Paul\",\"Garrison\",\"St. Cloud\",\"Hutchinson\",\"Duluth\",\"Blaine\",\"Minneapolis\",\"Roseville\",\"Shakopee\",\"Champlin\",\"Albert Lea\",\"Hastings\",\"Monticello\",\"Minnetonka\",\"Forest Lake\",\"Eagan\",\"Coon Rapids\",\"Minnetonka\",\"Rogers\",\"Maple Grove\",\"Savage\",\"Baxter\",\"Burnsville\",\"Oak Park Heights\",\"Winona\",\"St. Paul\",\"Blaine\",\"Fairmont\",\"Minnetonka\",\"Apple Valley\",\"Minneapolis\",\"St. Paul\",\"St. Paul\",\"Plymouth\",\"Lakeville\",\"Mankato\",\"Roseville\",\"Burnsville\",\"Elk River\",\"Minneapolis\",\"St. Paul\",\"Maplewood\",\"Eagan\",\"Rochester\",\"Minneapolis\",\"St. Paul\",\"Richfield\",\"St. Paul\",\"Maplewood\",\"Minneapolis\",\"St. Paul\",\"White Bear Lake\",\"Blaine\",\"Moorhead\",\"Moorhead\",\"Edina\",\"St. Cloud\",\"Bloomington\",\"St. Paul\",\"North Branch\",\"Rochester\",\"Minneapolis\",\"Northfield\",\"Blaine\",\"Minneapolis\",\"Alexandria\",\"Minneapolis\",\"Bloomington\",\"Hinckley\",\"Bemidji\",\"Rochester\",\"Brooklyn Center\",\"St. Paul\",\"Anoka\",\"Golden Valley\",\"Owatonna\",\"Mankato\",\"New Ulm\",\"New Hope\",\"Fridley\",\"Apple Valley\",\"Burnsville\",\"Hopkins\",\"Eden Prairie\",\"Woodbury\",\"Brooklyn Park\",\"Brooklyn Park\",\"Cottage Grove\",\"Bloomington\",\"Chanhassen\"],\"shape\":[452],\"dtype\":\"object\",\"order\":\"little\"}],[\"color\",{\"type\":\"ndarray\",\"array\":[\"Burger King\",\"Burger King\",\"Burger King\",\"Burger King\",\"Burger King\",\"Burger King\",\"Burger King\",\"Burger King\",\"Burger King\",\"Burger King\",\"Burger King\",\"Burger King\",\"Burger King\",\"Burger King\",\"Burger King\",\"Burger King\",\"Burger King\",\"Burger King\",\"Burger King\",\"Burger King\",\"Burger King\",\"Burger King\",\"Burger King\",\"Burger King\",\"Burger King\",\"Burger King\",\"Burger King\",\"Burger King\",\"Burger King\",\"Burger King\",\"Burger King\",\"Burger King\",\"Burger King\",\"Burger King\",\"Burger King\",\"Burger King\",\"Burger King\",\"Burger King\",\"Burger King\",\"Burger King\",\"Burger King\",\"Burger King\",\"Burger King\",\"Burger King\",\"Burger King\",\"Burger King\",\"Burger King\",\"Burger King\",\"Burger King\",\"Burger King\",\"Burger King\",\"Burger King\",\"Burger King\",\"Burger King\",\"Burger King\",\"Burger King\",\"Burger King\",\"Burger King\",\"Burger King\",\"Burger King\",\"Burger King\",\"Burger King\",\"Burger King\",\"Burger King\",\"Burger King\",\"Burger King\",\"Burger King\",\"Burger King\",\"Burger King\",\"Burger King\",\"Burger King\",\"Burger King\",\"Burger King\",\"Burger King\",\"Burger King\",\"Burger King\",\"Burger King\",\"Burger King\",\"Burger King\",\"Burger King\",\"Burger King\",\"Burger King\",\"Burger King\",\"Burger King\",\"Burger King\",\"Burger King\",\"Burger King\",\"Burger King\",\"Burger King\",\"Burger King\",\"Burger King\",\"Burger King\",\"Burger King\",\"Burger King\",\"Burger King\",\"Burger King\",\"Burger King\",\"Burger King\",\"Burger King\",\"Burger King\",\"Burger King\",\"Burger King\",\"Burger King\",\"Burger King\",\"Burger King\",\"Burger King\",\"Burger King\",\"Burger King\",\"Burger King\",\"Burger King\",\"Burger King\",\"Burger King\",\"Burger King\",\"Burger King\",\"Burger King\",\"Burger King\",\"Burger King\",\"Burger King\",\"Burger King\",\"Burger King\",\"Burger King\",\"Burger King\",\"Burger King\",\"Burger King\",\"Burger King\",\"Burger King\",\"Burger King\",\"Burger King\",\"Burger King\",\"Burger King\",\"Burger King\",\"Burger King\",\"Burger King\",\"Burger King\",\"Burger King\",\"Burger King\",\"Burger King\",\"Burger King\",\"Burger King\",\"Burger King\",\"Burger King\",\"Burger King\",\"Burger King\",\"Burger King\",\"Burger King\",\"Burger King\",\"McDonald's\",\"McDonald's\",\"McDonald's\",\"McDonald's\",\"McDonald's\",\"McDonald's\",\"McDonald's\",\"McDonald's\",\"McDonald's\",\"McDonald's\",\"McDonald's\",\"McDonald's\",\"McDonald's\",\"McDonald's\",\"McDonald's\",\"McDonald's\",\"McDonald's\",\"McDonald's\",\"McDonald's\",\"McDonald's\",\"McDonald's\",\"McDonald's\",\"McDonald's\",\"McDonald's\",\"McDonald's\",\"McDonald's\",\"McDonald's\",\"McDonald's\",\"McDonald's\",\"McDonald's\",\"McDonald's\",\"McDonald's\",\"McDonald's\",\"McDonald's\",\"McDonald's\",\"McDonald's\",\"McDonald's\",\"McDonald's\",\"McDonald's\",\"McDonald's\",\"McDonald's\",\"McDonald's\",\"McDonald's\",\"McDonald's\",\"McDonald's\",\"McDonald's\",\"McDonald's\",\"McDonald's\",\"McDonald's\",\"McDonald's\",\"McDonald's\",\"McDonald's\",\"McDonald's\",\"McDonald's\",\"McDonald's\",\"McDonald's\",\"McDonald's\",\"McDonald's\",\"McDonald's\",\"McDonald's\",\"McDonald's\",\"McDonald's\",\"McDonald's\",\"McDonald's\",\"McDonald's\",\"McDonald's\",\"McDonald's\",\"McDonald's\",\"McDonald's\",\"McDonald's\",\"McDonald's\",\"McDonald's\",\"McDonald's\",\"McDonald's\",\"McDonald's\",\"McDonald's\",\"McDonald's\",\"McDonald's\",\"McDonald's\",\"McDonald's\",\"McDonald's\",\"McDonald's\",\"McDonald's\",\"McDonald's\",\"McDonald's\",\"McDonald's\",\"McDonald's\",\"McDonald's\",\"McDonald's\",\"McDonald's\",\"McDonald's\",\"McDonald's\",\"McDonald's\",\"McDonald's\",\"McDonald's\",\"McDonald's\",\"McDonald's\",\"McDonald's\",\"McDonald's\",\"McDonald's\",\"McDonald's\",\"McDonald's\",\"McDonald's\",\"McDonald's\",\"McDonald's\",\"McDonald's\",\"McDonald's\",\"McDonald's\",\"McDonald's\",\"McDonald's\",\"McDonald's\",\"McDonald's\",\"McDonald's\",\"McDonald's\",\"McDonald's\",\"McDonald's\",\"McDonald's\",\"McDonald's\",\"McDonald's\",\"McDonald's\",\"McDonald's\",\"McDonald's\",\"McDonald's\",\"McDonald's\",\"McDonald's\",\"McDonald's\",\"McDonald's\",\"McDonald's\",\"McDonald's\",\"McDonald's\",\"McDonald's\",\"McDonald's\",\"McDonald's\",\"McDonald's\",\"McDonald's\",\"McDonald's\",\"McDonald's\",\"McDonald's\",\"McDonald's\",\"McDonald's\",\"McDonald's\",\"McDonald's\",\"McDonald's\",\"McDonald's\",\"McDonald's\",\"McDonald's\",\"McDonald's\",\"McDonald's\",\"McDonald's\",\"McDonald's\",\"McDonald's\",\"McDonald's\",\"McDonald's\",\"McDonald's\",\"McDonald's\",\"McDonald's\",\"McDonald's\",\"McDonald's\",\"McDonald's\",\"McDonald's\",\"McDonald's\",\"McDonald's\",\"McDonald's\",\"McDonald's\",\"McDonald's\",\"McDonald's\",\"McDonald's\",\"McDonald's\",\"McDonald's\",\"McDonald's\",\"McDonald's\",\"McDonald's\",\"McDonald's\",\"McDonald's\",\"McDonald's\",\"McDonald's\",\"McDonald's\",\"McDonald's\",\"McDonald's\",\"McDonald's\",\"McDonald's\",\"McDonald's\",\"McDonald's\",\"McDonald's\",\"McDonald's\",\"McDonald's\",\"McDonald's\",\"McDonald's\",\"McDonald's\",\"McDonald's\",\"McDonald's\",\"McDonald's\",\"McDonald's\",\"McDonald's\",\"McDonald's\",\"McDonald's\",\"McDonald's\",\"McDonald's\",\"McDonald's\",\"McDonald's\",\"McDonald's\",\"McDonald's\",\"McDonald's\",\"McDonald's\",\"McDonald's\",\"McDonald's\",\"McDonald's\",\"McDonald's\",\"McDonald's\",\"McDonald's\",\"McDonald's\",\"McDonald's\",\"McDonald's\",\"McDonald's\",\"McDonald's\",\"McDonald's\",\"McDonald's\",\"McDonald's\",\"Taco Bell\",\"Taco Bell\",\"Taco Bell\",\"Taco Bell\",\"Taco Bell\",\"Taco Bell\",\"Taco Bell\",\"Taco Bell\",\"Taco Bell\",\"Taco Bell\",\"Taco Bell\",\"Taco Bell\",\"Taco Bell\",\"Taco Bell\",\"Taco Bell\",\"Taco Bell\",\"Taco Bell\",\"Taco Bell\",\"Taco Bell\",\"Taco Bell\",\"Taco Bell\",\"Taco Bell\",\"Taco Bell\",\"Taco Bell\",\"Taco Bell\",\"Taco Bell\",\"Taco Bell\",\"Taco Bell\",\"Taco Bell\",\"Taco Bell\",\"Taco Bell\",\"Taco Bell\",\"Taco Bell\",\"Taco Bell\",\"Taco Bell\",\"Taco Bell\",\"Taco Bell\",\"Taco Bell\",\"Taco Bell\",\"Taco Bell\",\"Taco Bell\",\"Taco Bell\",\"Taco Bell\",\"Taco Bell\",\"Taco Bell\",\"Taco Bell\",\"Taco Bell\",\"Taco Bell\",\"Taco Bell\",\"Taco Bell\",\"Taco Bell\",\"Taco Bell\",\"Taco Bell\",\"Taco Bell\",\"Taco Bell\",\"Taco Bell\",\"Taco Bell\",\"Taco Bell\",\"Taco Bell\",\"Taco Bell\",\"Taco Bell\",\"Taco Bell\",\"Taco Bell\",\"Taco Bell\",\"Taco Bell\",\"Taco Bell\",\"Taco Bell\",\"Taco Bell\",\"Taco Bell\",\"Taco Bell\",\"Taco Bell\",\"Taco Bell\",\"Taco Bell\",\"Taco Bell\",\"Taco Bell\",\"Taco Bell\",\"Taco Bell\",\"Taco Bell\",\"Taco Bell\",\"Taco Bell\",\"Taco Bell\",\"Taco Bell\",\"Taco Bell\",\"Taco Bell\",\"Taco Bell\",\"Taco Bell\",\"Taco Bell\",\"Taco Bell\"],\"shape\":[452],\"dtype\":\"object\",\"order\":\"little\"}]]}}},\"view\":{\"type\":\"object\",\"name\":\"CDSView\",\"id\":\"p1413\",\"attributes\":{\"filter\":{\"type\":\"object\",\"name\":\"AllIndices\",\"id\":\"p1414\"}}},\"glyph\":{\"type\":\"object\",\"name\":\"Scatter\",\"id\":\"p1407\",\"attributes\":{\"tags\":[\"apply_ranges\"],\"x\":{\"type\":\"field\",\"field\":\"Long_\"},\"y\":{\"type\":\"field\",\"field\":\"Lat\"},\"size\":{\"type\":\"value\",\"value\":5.477225575051661},\"line_color\":{\"type\":\"field\",\"field\":\"color\",\"transform\":{\"type\":\"object\",\"name\":\"CategoricalColorMapper\",\"id\":\"p1400\",\"attributes\":{\"palette\":[\"yellow\",\"red\",\"purple\"],\"factors\":[\"Burger King\",\"McDonald's\",\"Taco Bell\"]}}},\"fill_color\":{\"type\":\"field\",\"field\":\"color\",\"transform\":{\"id\":\"p1400\"}},\"hatch_color\":{\"type\":\"field\",\"field\":\"color\",\"transform\":{\"id\":\"p1400\"}}}},\"selection_glyph\":{\"type\":\"object\",\"name\":\"Scatter\",\"id\":\"p1409\",\"attributes\":{\"tags\":[\"apply_ranges\"],\"x\":{\"type\":\"field\",\"field\":\"Long_\"},\"y\":{\"type\":\"field\",\"field\":\"Lat\"},\"size\":{\"type\":\"value\",\"value\":5.477225575051661},\"line_color\":{\"type\":\"field\",\"field\":\"color\",\"transform\":{\"id\":\"p1400\"}},\"fill_color\":{\"type\":\"field\",\"field\":\"color\",\"transform\":{\"id\":\"p1400\"}},\"hatch_color\":{\"type\":\"field\",\"field\":\"color\",\"transform\":{\"id\":\"p1400\"}}}},\"nonselection_glyph\":{\"type\":\"object\",\"name\":\"Scatter\",\"id\":\"p1408\",\"attributes\":{\"tags\":[\"apply_ranges\"],\"x\":{\"type\":\"field\",\"field\":\"Long_\"},\"y\":{\"type\":\"field\",\"field\":\"Lat\"},\"size\":{\"type\":\"value\",\"value\":5.477225575051661},\"line_color\":{\"type\":\"field\",\"field\":\"color\",\"transform\":{\"id\":\"p1400\"}},\"line_alpha\":{\"type\":\"value\",\"value\":0.1},\"fill_color\":{\"type\":\"field\",\"field\":\"color\",\"transform\":{\"id\":\"p1400\"}},\"fill_alpha\":{\"type\":\"value\",\"value\":0.1},\"hatch_color\":{\"type\":\"field\",\"field\":\"color\",\"transform\":{\"id\":\"p1400\"}},\"hatch_alpha\":{\"type\":\"value\",\"value\":0.1}}},\"hover_glyph\":{\"type\":\"object\",\"name\":\"Scatter\",\"id\":\"p1410\",\"attributes\":{\"tags\":[\"apply_ranges\"],\"x\":{\"type\":\"field\",\"field\":\"Long_\"},\"y\":{\"type\":\"field\",\"field\":\"Lat\"},\"size\":{\"type\":\"value\",\"value\":5.477225575051661},\"line_color\":{\"type\":\"field\",\"field\":\"color\",\"transform\":{\"id\":\"p1400\"}},\"fill_color\":{\"type\":\"field\",\"field\":\"color\",\"transform\":{\"id\":\"p1400\"}},\"hatch_color\":{\"type\":\"field\",\"field\":\"color\",\"transform\":{\"id\":\"p1400\"}}}},\"muted_glyph\":{\"type\":\"object\",\"name\":\"Scatter\",\"id\":\"p1411\",\"attributes\":{\"tags\":[\"apply_ranges\"],\"x\":{\"type\":\"field\",\"field\":\"Long_\"},\"y\":{\"type\":\"field\",\"field\":\"Lat\"},\"size\":{\"type\":\"value\",\"value\":5.477225575051661},\"line_color\":{\"type\":\"field\",\"field\":\"color\",\"transform\":{\"id\":\"p1400\"}},\"line_alpha\":{\"type\":\"value\",\"value\":0.2},\"fill_color\":{\"type\":\"field\",\"field\":\"color\",\"transform\":{\"id\":\"p1400\"}},\"fill_alpha\":{\"type\":\"value\",\"value\":0.2},\"hatch_color\":{\"type\":\"field\",\"field\":\"color\",\"transform\":{\"id\":\"p1400\"}},\"hatch_alpha\":{\"type\":\"value\",\"value\":0.2}}}}}],\"toolbar\":{\"type\":\"object\",\"name\":\"Toolbar\",\"id\":\"p1372\",\"attributes\":{\"tools\":[{\"type\":\"object\",\"name\":\"WheelZoomTool\",\"id\":\"p1358\",\"attributes\":{\"tags\":[\"hv_created\"],\"zoom_on_axis\":false,\"zoom_together\":\"none\"}},{\"type\":\"object\",\"name\":\"HoverTool\",\"id\":\"p1362\",\"attributes\":{\"tags\":[\"hv_created\"],\"renderers\":[{\"id\":\"p1412\"}],\"tooltips\":[[\"Long_\",\"$x{custom}\"],[\"Lat\",\"$y{custom}\"],[\"Restaurant\",\"@{Restaurant}\"],[\"Address\",\"@{Address}\"],[\"City\",\"@{City}\"]],\"formatters\":{\"type\":\"map\",\"entries\":[[\"$x\",{\"type\":\"object\",\"name\":\"CustomJSHover\",\"id\":\"p1417\",\"attributes\":{\"code\":\"\\n        const projections = Bokeh.require(\\\"core/util/projections\\\");\\n        const {snap_x, snap_y} = special_vars\\n        const coords = projections.wgs84_mercator.invert(snap_x, snap_y)\\n        return \\\"\\\" + (coords[0]).toFixed(4)\\n    \"}}],[\"$y\",{\"type\":\"object\",\"name\":\"CustomJSHover\",\"id\":\"p1418\",\"attributes\":{\"code\":\"\\n        const projections = Bokeh.require(\\\"core/util/projections\\\");\\n        const {snap_x, snap_y} = special_vars\\n        const coords = projections.wgs84_mercator.invert(snap_x, snap_y)\\n        return \\\"\\\" + (coords[1]).toFixed(4)\\n    \"}}]]}}},{\"type\":\"object\",\"name\":\"SaveTool\",\"id\":\"p1385\"},{\"type\":\"object\",\"name\":\"PanTool\",\"id\":\"p1386\"},{\"type\":\"object\",\"name\":\"BoxZoomTool\",\"id\":\"p1387\",\"attributes\":{\"overlay\":{\"type\":\"object\",\"name\":\"BoxAnnotation\",\"id\":\"p1388\",\"attributes\":{\"syncable\":false,\"level\":\"overlay\",\"visible\":false,\"left_units\":\"canvas\",\"right_units\":\"canvas\",\"bottom_units\":\"canvas\",\"top_units\":\"canvas\",\"line_color\":\"black\",\"line_alpha\":1.0,\"line_width\":2,\"line_dash\":[4,4],\"fill_color\":\"lightgrey\",\"fill_alpha\":0.5}},\"match_aspect\":true}},{\"type\":\"object\",\"name\":\"ResetTool\",\"id\":\"p1389\"}],\"active_drag\":{\"id\":\"p1386\"}}},\"left\":[{\"type\":\"object\",\"name\":\"LinearAxis\",\"id\":\"p1380\",\"attributes\":{\"ticker\":{\"type\":\"object\",\"name\":\"MercatorTicker\",\"id\":\"p1392\",\"attributes\":{\"mantissas\":[1,2,5],\"dimension\":\"lat\"}},\"formatter\":{\"type\":\"object\",\"name\":\"MercatorTickFormatter\",\"id\":\"p1393\",\"attributes\":{\"dimension\":\"lat\"}},\"axis_label\":\"y\",\"major_label_policy\":{\"type\":\"object\",\"name\":\"AllLabels\",\"id\":\"p1383\"}}}],\"right\":[{\"type\":\"object\",\"name\":\"Legend\",\"id\":\"p1415\",\"attributes\":{\"location\":[0,0],\"click_policy\":\"mute\",\"items\":[{\"type\":\"object\",\"name\":\"LegendItem\",\"id\":\"p1416\",\"attributes\":{\"label\":{\"type\":\"field\",\"field\":\"color\"},\"renderers\":[{\"id\":\"p1412\"}]}}]}}],\"below\":[{\"type\":\"object\",\"name\":\"LinearAxis\",\"id\":\"p1375\",\"attributes\":{\"ticker\":{\"type\":\"object\",\"name\":\"MercatorTicker\",\"id\":\"p1390\",\"attributes\":{\"mantissas\":[1,2,5],\"dimension\":\"lon\"}},\"formatter\":{\"type\":\"object\",\"name\":\"MercatorTickFormatter\",\"id\":\"p1391\",\"attributes\":{\"dimension\":\"lon\"}},\"axis_label\":\"x\",\"major_label_policy\":{\"type\":\"object\",\"name\":\"AllLabels\",\"id\":\"p1378\"}}}],\"center\":[{\"type\":\"object\",\"name\":\"Grid\",\"id\":\"p1379\",\"attributes\":{\"axis\":{\"id\":\"p1375\"},\"grid_line_color\":null}},{\"type\":\"object\",\"name\":\"Grid\",\"id\":\"p1384\",\"attributes\":{\"dimension\":1,\"axis\":{\"id\":\"p1380\"},\"grid_line_color\":null}}],\"frame_width\":800,\"frame_height\":500,\"min_border_top\":10,\"min_border_bottom\":10,\"min_border_left\":10,\"min_border_right\":10,\"output_backend\":\"webgl\",\"match_aspect\":true}},{\"type\":\"object\",\"name\":\"Spacer\",\"id\":\"p1420\",\"attributes\":{\"name\":\"HSpacer02279\",\"stylesheets\":[\"\\n:host(.pn-loading.pn-arc):before, .pn-loading.pn-arc:before {\\n  background-image: url(\\\"data:image/svg+xml;base64,PHN2ZyB4bWxucz0iaHR0cDovL3d3dy53My5vcmcvMjAwMC9zdmciIHN0eWxlPSJtYXJnaW46IGF1dG87IGJhY2tncm91bmQ6IG5vbmU7IGRpc3BsYXk6IGJsb2NrOyBzaGFwZS1yZW5kZXJpbmc6IGF1dG87IiB2aWV3Qm94PSIwIDAgMTAwIDEwMCIgcHJlc2VydmVBc3BlY3RSYXRpbz0ieE1pZFlNaWQiPiAgPGNpcmNsZSBjeD0iNTAiIGN5PSI1MCIgZmlsbD0ibm9uZSIgc3Ryb2tlPSIjYzNjM2MzIiBzdHJva2Utd2lkdGg9IjEwIiByPSIzNSIgc3Ryb2tlLWRhc2hhcnJheT0iMTY0LjkzMzYxNDMxMzQ2NDE1IDU2Ljk3Nzg3MTQzNzgyMTM4Ij4gICAgPGFuaW1hdGVUcmFuc2Zvcm0gYXR0cmlidXRlTmFtZT0idHJhbnNmb3JtIiB0eXBlPSJyb3RhdGUiIHJlcGVhdENvdW50PSJpbmRlZmluaXRlIiBkdXI9IjFzIiB2YWx1ZXM9IjAgNTAgNTA7MzYwIDUwIDUwIiBrZXlUaW1lcz0iMDsxIj48L2FuaW1hdGVUcmFuc2Zvcm0+ICA8L2NpcmNsZT48L3N2Zz4=\\\");\\n  background-size: auto calc(min(50%, 400px));\\n}\",{\"id\":\"p1345\"},{\"id\":\"p1343\"},{\"id\":\"p1344\"}],\"margin\":0,\"sizing_mode\":\"stretch_width\",\"align\":\"start\"}}]}}],\"defs\":[{\"type\":\"model\",\"name\":\"ReactiveHTML1\"},{\"type\":\"model\",\"name\":\"FlexBox1\",\"properties\":[{\"name\":\"align_content\",\"kind\":\"Any\",\"default\":\"flex-start\"},{\"name\":\"align_items\",\"kind\":\"Any\",\"default\":\"flex-start\"},{\"name\":\"flex_direction\",\"kind\":\"Any\",\"default\":\"row\"},{\"name\":\"flex_wrap\",\"kind\":\"Any\",\"default\":\"wrap\"},{\"name\":\"justify_content\",\"kind\":\"Any\",\"default\":\"flex-start\"}]},{\"type\":\"model\",\"name\":\"FloatPanel1\",\"properties\":[{\"name\":\"config\",\"kind\":\"Any\",\"default\":{\"type\":\"map\"}},{\"name\":\"contained\",\"kind\":\"Any\",\"default\":true},{\"name\":\"position\",\"kind\":\"Any\",\"default\":\"right-top\"},{\"name\":\"offsetx\",\"kind\":\"Any\",\"default\":null},{\"name\":\"offsety\",\"kind\":\"Any\",\"default\":null},{\"name\":\"theme\",\"kind\":\"Any\",\"default\":\"primary\"},{\"name\":\"status\",\"kind\":\"Any\",\"default\":\"normalized\"}]},{\"type\":\"model\",\"name\":\"GridStack1\",\"properties\":[{\"name\":\"mode\",\"kind\":\"Any\",\"default\":\"warn\"},{\"name\":\"ncols\",\"kind\":\"Any\",\"default\":null},{\"name\":\"nrows\",\"kind\":\"Any\",\"default\":null},{\"name\":\"allow_resize\",\"kind\":\"Any\",\"default\":true},{\"name\":\"allow_drag\",\"kind\":\"Any\",\"default\":true},{\"name\":\"state\",\"kind\":\"Any\",\"default\":[]}]},{\"type\":\"model\",\"name\":\"drag1\",\"properties\":[{\"name\":\"slider_width\",\"kind\":\"Any\",\"default\":5},{\"name\":\"slider_color\",\"kind\":\"Any\",\"default\":\"black\"},{\"name\":\"value\",\"kind\":\"Any\",\"default\":50}]},{\"type\":\"model\",\"name\":\"click1\",\"properties\":[{\"name\":\"terminal_output\",\"kind\":\"Any\",\"default\":\"\"},{\"name\":\"debug_name\",\"kind\":\"Any\",\"default\":\"\"},{\"name\":\"clears\",\"kind\":\"Any\",\"default\":0}]},{\"type\":\"model\",\"name\":\"FastWrapper1\",\"properties\":[{\"name\":\"object\",\"kind\":\"Any\",\"default\":null},{\"name\":\"style\",\"kind\":\"Any\",\"default\":null}]},{\"type\":\"model\",\"name\":\"NotificationAreaBase1\",\"properties\":[{\"name\":\"js_events\",\"kind\":\"Any\",\"default\":{\"type\":\"map\"}},{\"name\":\"position\",\"kind\":\"Any\",\"default\":\"bottom-right\"},{\"name\":\"_clear\",\"kind\":\"Any\",\"default\":0}]},{\"type\":\"model\",\"name\":\"NotificationArea1\",\"properties\":[{\"name\":\"js_events\",\"kind\":\"Any\",\"default\":{\"type\":\"map\"}},{\"name\":\"notifications\",\"kind\":\"Any\",\"default\":[]},{\"name\":\"position\",\"kind\":\"Any\",\"default\":\"bottom-right\"},{\"name\":\"_clear\",\"kind\":\"Any\",\"default\":0},{\"name\":\"types\",\"kind\":\"Any\",\"default\":[{\"type\":\"map\",\"entries\":[[\"type\",\"warning\"],[\"background\",\"#ffc107\"],[\"icon\",{\"type\":\"map\",\"entries\":[[\"className\",\"fas fa-exclamation-triangle\"],[\"tagName\",\"i\"],[\"color\",\"white\"]]}]]},{\"type\":\"map\",\"entries\":[[\"type\",\"info\"],[\"background\",\"#007bff\"],[\"icon\",{\"type\":\"map\",\"entries\":[[\"className\",\"fas fa-info-circle\"],[\"tagName\",\"i\"],[\"color\",\"white\"]]}]]}]}]},{\"type\":\"model\",\"name\":\"Notification\",\"properties\":[{\"name\":\"background\",\"kind\":\"Any\",\"default\":null},{\"name\":\"duration\",\"kind\":\"Any\",\"default\":3000},{\"name\":\"icon\",\"kind\":\"Any\",\"default\":null},{\"name\":\"message\",\"kind\":\"Any\",\"default\":\"\"},{\"name\":\"notification_type\",\"kind\":\"Any\",\"default\":null},{\"name\":\"_destroyed\",\"kind\":\"Any\",\"default\":false}]},{\"type\":\"model\",\"name\":\"TemplateActions1\",\"properties\":[{\"name\":\"open_modal\",\"kind\":\"Any\",\"default\":0},{\"name\":\"close_modal\",\"kind\":\"Any\",\"default\":0}]},{\"type\":\"model\",\"name\":\"BootstrapTemplateActions1\",\"properties\":[{\"name\":\"open_modal\",\"kind\":\"Any\",\"default\":0},{\"name\":\"close_modal\",\"kind\":\"Any\",\"default\":0}]},{\"type\":\"model\",\"name\":\"MaterialTemplateActions1\",\"properties\":[{\"name\":\"open_modal\",\"kind\":\"Any\",\"default\":0},{\"name\":\"close_modal\",\"kind\":\"Any\",\"default\":0}]}]}};\n",
       "  var render_items = [{\"docid\":\"36fbf17e-b8db-4aa7-8cc5-34eb39d2c46f\",\"roots\":{\"p1342\":\"eb745d8c-54cb-42d5-b81a-a36b025ae50a\"},\"root_ids\":[\"p1342\"]}];\n",
       "  var docs = Object.values(docs_json)\n",
       "  if (!docs) {\n",
       "    return\n",
       "  }\n",
       "  const py_version = docs[0].version.replace('rc', '-rc.').replace('.dev', '-dev.')\n",
       "  const is_dev = py_version.indexOf(\"+\") !== -1 || py_version.indexOf(\"-\") !== -1\n",
       "  function embed_document(root) {\n",
       "    var Bokeh = get_bokeh(root)\n",
       "    Bokeh.embed.embed_items_notebook(docs_json, render_items);\n",
       "    for (const render_item of render_items) {\n",
       "      for (const root_id of render_item.root_ids) {\n",
       "\tconst id_el = document.getElementById(root_id)\n",
       "\tif (id_el.children.length && (id_el.children[0].className === 'bk-root')) {\n",
       "\t  const root_el = id_el.children[0]\n",
       "\t  root_el.id = root_el.id + '-rendered'\n",
       "\t}\n",
       "      }\n",
       "    }\n",
       "  }\n",
       "  function get_bokeh(root) {\n",
       "    if (root.Bokeh === undefined) {\n",
       "      return null\n",
       "    } else if (root.Bokeh.version !== py_version && !is_dev) {\n",
       "      if (root.Bokeh.versions === undefined || !root.Bokeh.versions.has(py_version)) {\n",
       "\treturn null\n",
       "      }\n",
       "      return root.Bokeh.versions.get(py_version);\n",
       "    } else if (root.Bokeh.version === py_version) {\n",
       "      return root.Bokeh\n",
       "    }\n",
       "    return null\n",
       "  }\n",
       "  function is_loaded(root) {\n",
       "    var Bokeh = get_bokeh(root)\n",
       "    return (Bokeh != null && Bokeh.Panel !== undefined)\n",
       "  }\n",
       "  if (is_loaded(root)) {\n",
       "    embed_document(root);\n",
       "  } else {\n",
       "    var attempts = 0;\n",
       "    var timer = setInterval(function(root) {\n",
       "      if (is_loaded(root)) {\n",
       "        clearInterval(timer);\n",
       "        embed_document(root);\n",
       "      } else if (document.readyState == \"complete\") {\n",
       "        attempts++;\n",
       "        if (attempts > 200) {\n",
       "          clearInterval(timer);\n",
       "\t  var Bokeh = get_bokeh(root)\n",
       "\t  if (Bokeh == null || Bokeh.Panel == null) {\n",
       "            console.warn(\"Panel: ERROR: Unable to run Panel code because Bokeh or Panel library is missing\");\n",
       "\t  } else {\n",
       "\t    console.warn(\"Panel: WARNING: Attempting to render but not all required libraries could be resolved.\")\n",
       "\t    embed_document(root)\n",
       "\t  }\n",
       "        }\n",
       "      }\n",
       "    }, 25, root)\n",
       "  }\n",
       "})(window);</script>"
      ],
      "text/plain": [
       ":Overlay\n",
       "   .Tiles.I  :Tiles   [x,y]\n",
       "   .Points.I :Points   [Long_,Lat]   (Restaurant,Address,City)"
      ]
     },
     "execution_count": 56,
     "metadata": {
      "application/vnd.holoviews_exec.v0+json": {
       "id": "p1342"
      }
     },
     "output_type": "execute_result"
    }
   ],
   "source": [
    "# configure the map plot\n",
    "map_plot = res_df.hvplot.points(\n",
    "    \"Long_\",\n",
    "    \"Lat\",\n",
    "    geo = True,\n",
    "    tiles = 'OSM',\n",
    "    frame_width = 800,\n",
    "    frame_height = 500,\n",
    "    color = 'Restaurant',\n",
    "    cmap = ['yellow', 'red', 'purple'],\n",
    "    hover_cols = ['Restaurant', 'Address', 'City'],\n",
    "    title = 'Fast Food Restaurant Locations in Minnesota'\n",
    ")\n",
    "\n",
    "# Display the map plot\n",
    "map_plot\n",
    "# hvplot.save(map_plot, 'fast_food_in_mn.html')"
   ]
  },
  {
   "cell_type": "code",
   "execution_count": null,
   "metadata": {},
   "outputs": [],
   "source": []
  }
 ],
 "metadata": {
  "kernelspec": {
   "display_name": "dev",
   "language": "python",
   "name": "python3"
  },
  "language_info": {
   "codemirror_mode": {
    "name": "ipython",
    "version": 3
   },
   "file_extension": ".py",
   "mimetype": "text/x-python",
   "name": "python",
   "nbconvert_exporter": "python",
   "pygments_lexer": "ipython3",
   "version": "3.10.13"
  }
 },
 "nbformat": 4,
 "nbformat_minor": 2
}
